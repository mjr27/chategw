{
 "cells": [
  {
   "cell_type": "code",
   "execution_count": 1,
   "id": "523c233a8272e964",
   "metadata": {
    "collapsed": false,
    "ExecuteTime": {
     "end_time": "2023-11-23T11:17:11.385211385Z",
     "start_time": "2023-11-23T11:17:11.384836368Z"
    }
   },
   "outputs": [],
   "source": [
    "import os.path\n",
    "\n",
    "LINKS_DATA = \"../data/links-v3.tsv\"\n",
    "OUTPUT_FOLDER = \"../data/v4\"\n",
    "PROCESS_COUNT = 16"
   ]
  },
  {
   "cell_type": "code",
   "execution_count": 2,
   "id": "cb1a2e958feff82b",
   "metadata": {
    "collapsed": false,
    "ExecuteTime": {
     "end_time": "2023-11-23T11:17:11.991685473Z",
     "start_time": "2023-11-23T11:17:11.989890664Z"
    }
   },
   "outputs": [],
   "source": [
    "import typing\n",
    "\n",
    "\n",
    "def make_range(s: str) -> typing.Tuple[int, int]:\n",
    "    r = [int(i) for i in s.split(\"-\")[:2]]\n",
    "    return r[0], r[1]\n",
    "\n",
    "\n",
    "def read_lines(filename):\n",
    "    with open(filename, \"r\", encoding=\"utf-8\") as f:\n",
    "        for line in f.readlines():\n",
    "            try:\n",
    "                line = line.strip().split(\"\\t\")\n",
    "                para_id = line[0]\n",
    "                text = line[1]\n",
    "                ranges = [make_range(s) for s in line[2:]]\n",
    "                yield dict(para_id=para_id, text=text.lower(), ranges=ranges)\n",
    "            except Exception as e:\n",
    "                print(e)\n",
    "                print(line)\n",
    "                raise\n",
    "\n",
    "\n",
    "def line_count(filename):\n",
    "    with open(filename, \"r\", encoding=\"utf-8\") as f:\n",
    "        return len(f.readlines())\n"
   ]
  },
  {
   "cell_type": "code",
   "execution_count": 3,
   "id": "3f69dfd993769423",
   "metadata": {
    "collapsed": false,
    "ExecuteTime": {
     "end_time": "2023-11-23T11:17:12.854042902Z",
     "start_time": "2023-11-23T11:17:12.670495460Z"
    }
   },
   "outputs": [
    {
     "data": {
      "text/plain": "414289"
     },
     "execution_count": 3,
     "metadata": {},
     "output_type": "execute_result"
    }
   ],
   "source": [
    "data_count = line_count(LINKS_DATA)\n",
    "data_count\n"
   ]
  },
  {
   "cell_type": "code",
   "execution_count": 4,
   "id": "43a137c617197d0d",
   "metadata": {
    "collapsed": false,
    "ExecuteTime": {
     "end_time": "2023-11-23T11:17:16.585838139Z",
     "start_time": "2023-11-23T11:17:13.605498508Z"
    }
   },
   "outputs": [],
   "source": [
    "import sys\n",
    "\n",
    "module_path = os.path.abspath(os.path.join('..'))\n",
    "if module_path not in sys.path:\n",
    "    sys.path.append(module_path)\n",
    "\n",
    "from chategw.util import split_every\n",
    "import tqdm\n",
    "import os.path\n",
    "import spacy\n",
    "from spacy.tokens import DocBin, Doc\n",
    "\n",
    "spacy.require_cpu()\n",
    "nlp = spacy.load(\"en_core_web_lg\")\n",
    "if not os.path.exists(OUTPUT_FOLDER):\n",
    "    os.mkdir(OUTPUT_FOLDER, mode=0o755)"
   ]
  },
  {
   "cell_type": "code",
   "execution_count": 5,
   "id": "73b7c29bdd2c8c86",
   "metadata": {
    "collapsed": false,
    "ExecuteTime": {
     "end_time": "2023-11-23T11:17:17.835644486Z",
     "start_time": "2023-11-23T11:17:17.829695284Z"
    }
   },
   "outputs": [],
   "source": [
    "allowed_labels = {'PERSON', 'DATE', 'LOC', 'GPE'}\n",
    "\n",
    "\n",
    "def read_docs(count: int, lines: typing.Iterable[str]) -> typing.Iterable[Doc]:\n",
    "    for chunk in split_every(count, tqdm.tqdm(lines, total=data_count, desc=\"Loading paragraphs\", unit=\"paragraph\")):\n",
    "        docs = nlp.pipe([r['text'] for r in chunk], n_process=PROCESS_COUNT, batch_size=512)\n",
    "        for doc, row in zip(docs, chunk):\n",
    "            raw_entities = [ent for ent in doc.ents if ent.label_ in allowed_labels]\n",
    "            entities = []\n",
    "            for link in row['ranges']:\n",
    "                entities.append(doc.char_span(link[0], link[1], label=\"REFERENCE\"))\n",
    "            has_ranges = bool(entities)\n",
    "            has_entities = False\n",
    "            for e in raw_entities:\n",
    "                can_add = True\n",
    "                for added_entity in entities:\n",
    "                    if (added_entity.start - 1 <= e.start <= added_entity.end + 1) or \\\n",
    "                            (added_entity.start - 1 <= e.end <= added_entity.end + 1):\n",
    "                        can_add = False\n",
    "                        break\n",
    "                if can_add:\n",
    "                    entities.append(e)\n",
    "                    has_entities = True\n",
    "            try:\n",
    "                if has_ranges and has_entities:\n",
    "                    doc.ents = entities\n",
    "                    yield doc\n",
    "            except ValueError:\n",
    "                continue"
   ]
  },
  {
   "cell_type": "code",
   "execution_count": 6,
   "id": "2f5f9a383b03372a",
   "metadata": {
    "collapsed": false,
    "ExecuteTime": {
     "end_time": "2023-11-23T11:23:58.236582173Z",
     "start_time": "2023-11-23T11:17:18.822863218Z"
    }
   },
   "outputs": [
    {
     "name": "stderr",
     "output_type": "stream",
     "text": [
      "Loading paragraphs: 100%|██████████| 414289/414289 [06:26<00:00, 1071.89paragraph/s]\n"
     ]
    }
   ],
   "source": [
    "all_docs = []\n",
    "for row in read_docs(16_000, read_lines(LINKS_DATA)):\n",
    "    all_docs.append(row)"
   ]
  },
  {
   "cell_type": "code",
   "execution_count": 7,
   "id": "18579ebafa4d2496",
   "metadata": {
    "collapsed": false,
    "ExecuteTime": {
     "end_time": "2023-11-23T11:24:00.636078901Z",
     "start_time": "2023-11-23T11:24:00.633062480Z"
    }
   },
   "outputs": [
    {
     "data": {
      "text/plain": "226110"
     },
     "execution_count": 7,
     "metadata": {},
     "output_type": "execute_result"
    }
   ],
   "source": [
    "len(all_docs)"
   ]
  },
  {
   "cell_type": "code",
   "execution_count": 8,
   "outputs": [],
   "source": [
    "from sklearn.model_selection import train_test_split\n",
    "train_set, validation_set = train_test_split(all_docs, test_size=0.25)\n",
    "validation_set, test_set = train_test_split(validation_set, test_size=0.3)"
   ],
   "metadata": {
    "collapsed": false,
    "ExecuteTime": {
     "end_time": "2023-11-23T11:24:01.747432173Z",
     "start_time": "2023-11-23T11:24:01.698127893Z"
    }
   },
   "id": "7824582f424cf15e"
  },
  {
   "cell_type": "code",
   "execution_count": 9,
   "outputs": [],
   "source": [
    "def save_docs(docs : typing.List[Doc], filename: str):\n",
    "    db = DocBin()\n",
    "    for r in docs:\n",
    "        db.add(r)\n",
    "    db.to_disk(filename)"
   ],
   "metadata": {
    "collapsed": false,
    "ExecuteTime": {
     "end_time": "2023-11-23T11:24:03.280098778Z",
     "start_time": "2023-11-23T11:24:03.274569496Z"
    }
   },
   "id": "ec5700a9934040e6"
  },
  {
   "cell_type": "code",
   "execution_count": 10,
   "outputs": [],
   "source": [
    "save_docs(train_set, os.path.join(OUTPUT_FOLDER, \"train.spacy\"))\n",
    "save_docs(validation_set, os.path.join(OUTPUT_FOLDER, \"dev.spacy\"))\n",
    "save_docs(test_set, os.path.join(OUTPUT_FOLDER, \"test.spacy\"))"
   ],
   "metadata": {
    "collapsed": false,
    "ExecuteTime": {
     "end_time": "2023-11-23T11:24:55.114119568Z",
     "start_time": "2023-11-23T11:24:04.408771073Z"
    }
   },
   "id": "3c3f7013a4e0e6f8"
  },
  {
   "cell_type": "code",
   "execution_count": null,
   "outputs": [],
   "source": [],
   "metadata": {
    "collapsed": false
   },
   "id": "8d98f67129faa9e"
  }
 ],
 "metadata": {
  "kernelspec": {
   "display_name": "Python 3 (ipykernel)",
   "language": "python",
   "name": "python3"
  },
  "language_info": {
   "codemirror_mode": {
    "name": "ipython",
    "version": 3
   },
   "file_extension": ".py",
   "mimetype": "text/x-python",
   "name": "python",
   "nbconvert_exporter": "python",
   "pygments_lexer": "ipython3",
   "version": "3.11.6"
  },
  "widgets": {
   "application/vnd.jupyter.widget-state+json": {
    "state": {},
    "version_major": 2,
    "version_minor": 0
   }
  }
 },
 "nbformat": 4,
 "nbformat_minor": 5
}
