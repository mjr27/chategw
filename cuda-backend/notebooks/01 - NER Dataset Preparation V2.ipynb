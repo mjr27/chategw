{
 "cells": [
  {
   "cell_type": "code",
   "execution_count": 1,
   "id": "523c233a8272e964",
   "metadata": {
    "collapsed": false,
    "ExecuteTime": {
     "end_time": "2023-12-07T10:52:01.620705587Z",
     "start_time": "2023-12-07T10:52:00.789617666Z"
    }
   },
   "outputs": [],
   "source": [
    "import spacy\n",
    "\n",
    "LINKS_DATA = \"../../src/ChatEgw.UI.Indexer/paragraphs-raw.tsv\"\n",
    "OUTPUT_FOLDER = \"../data/v4\"\n",
    "PROCESS_COUNT = 1\n",
    "BATCH_SIZE = 512\n"
   ]
  },
  {
   "cell_type": "code",
   "execution_count": 2,
   "id": "cb1a2e958feff82b",
   "metadata": {
    "collapsed": false,
    "ExecuteTime": {
     "end_time": "2023-12-07T10:52:02.228659105Z",
     "start_time": "2023-12-07T10:52:02.221848008Z"
    }
   },
   "outputs": [],
   "source": [
    "import typing\n",
    "\n",
    "\n",
    "def read_lines(filename):\n",
    "    with open(filename, \"r\", encoding=\"utf-8\") as f:\n",
    "        for line in f.readlines():\n",
    "            try:\n",
    "                line = line.strip().split(\"\\t\", 1)\n",
    "                para_id = line[0]\n",
    "                text = line[1]\n",
    "                yield text\n",
    "            except Exception as e:\n",
    "                print(e)\n",
    "                print(line)\n",
    "                raise\n",
    "\n",
    "\n",
    "def line_count(filename):\n",
    "    with open(filename, \"r\", encoding=\"utf-8\") as f:\n",
    "        return len(f.readlines())\n"
   ]
  },
  {
   "cell_type": "code",
   "execution_count": 3,
   "id": "3f69dfd993769423",
   "metadata": {
    "collapsed": false,
    "ExecuteTime": {
     "end_time": "2023-12-07T10:52:05.061060227Z",
     "start_time": "2023-12-07T10:52:03.106937367Z"
    }
   },
   "outputs": [],
   "source": [
    "data_count = line_count(LINKS_DATA)\n",
    "LINES = [r for r in read_lines(LINKS_DATA)]\n"
   ]
  },
  {
   "cell_type": "code",
   "execution_count": 4,
   "id": "43a137c617197d0d",
   "metadata": {
    "collapsed": false,
    "ExecuteTime": {
     "end_time": "2023-12-07T10:52:11.218345148Z",
     "start_time": "2023-12-07T10:52:09.477401222Z"
    }
   },
   "outputs": [],
   "source": [
    "from chategw.util import split_every\n",
    "import tqdm\n",
    "import os.path\n",
    "from spacy.tokens import DocBin\n",
    "\n",
    "spacy.require_gpu()\n",
    "nlp = spacy.load(\"en_core_web_lg\")\n",
    "nlp_blank = spacy.blank(\"en\")\n",
    "if not os.path.exists(OUTPUT_FOLDER):\n",
    "    os.mkdir(OUTPUT_FOLDER, mode=0o755)\n"
   ]
  },
  {
   "cell_type": "code",
   "execution_count": 5,
   "outputs": [],
   "source": [
    "\n",
    "\n",
    "allowed_labels = {'PERSON': 'PERSON', 'LOC': 'LOC', 'GPE': 'LOC'}\n",
    "\n",
    "\n",
    "def read_docs(count: int, lines: typing.List[str]) -> typing.Tuple[int, typing.List[typing.Tuple[int, int, str]]]:\n",
    "    total = 0\n",
    "    errors = 0\n",
    "    iterable = tqdm.tqdm(lines, total=len(lines), desc=\"Loading paragraphs\", unit=\"paragraph\")\n",
    "    for chunk in split_every(count, iterable):\n",
    "        iterable.set_description(\n",
    "            f\"Processing paragraphs (Errors: {errors}/{total} [{float(errors * 100) / (total + 1):.2f}%])\", False)\n",
    "        docs = nlp.pipe(chunk, n_process=PROCESS_COUNT, batch_size=BATCH_SIZE)\n",
    "        docs_processed = nlp_blank.pipe(chunk, n_process=PROCESS_COUNT, batch_size=BATCH_SIZE)\n",
    "        docs_lower_processed = nlp_blank.pipe([s.lower() for s in chunk], n_process=PROCESS_COUNT,\n",
    "                                              batch_size=BATCH_SIZE)\n",
    "        for c, doc, doc_result, doc_result_lower in zip(chunk, docs, docs_processed, docs_lower_processed):\n",
    "            total += 1\n",
    "            ents = []\n",
    "            for e in doc.ents:\n",
    "                if e.label_ in allowed_labels:\n",
    "                    ents.append((e.start, e.end, allowed_labels[e.label_]))\n",
    "            doc_processed_ents = []\n",
    "            for start, end, label in ents:\n",
    "                doc_processed_ents.append(spacy.tokens.Span(doc_result, start, end, label=label))\n",
    "            doc_result.ents = doc_processed_ents\n",
    "            yield doc_result\n",
    "            if len(doc_result) == len(doc_result_lower):\n",
    "                doc_lower_processed_ents = []\n",
    "                for start, end, label in ents:\n",
    "                    doc_lower_processed_ents.append(spacy.tokens.Span(doc_result_lower, start, end, label=label))\n",
    "                doc_result_lower.ents = doc_lower_processed_ents\n",
    "                yield doc_result_lower\n",
    "            else:\n",
    "                errors += 1\n",
    "\n",
    "\n"
   ],
   "metadata": {
    "collapsed": false,
    "ExecuteTime": {
     "end_time": "2023-12-07T10:52:12.388596018Z",
     "start_time": "2023-12-07T10:52:12.381397273Z"
    }
   },
   "id": "73b7c29bdd2c8c86"
  },
  {
   "cell_type": "code",
   "execution_count": 6,
   "outputs": [
    {
     "name": "stdout",
     "output_type": "stream",
     "text": [
      "../data/v4/train\n"
     ]
    },
    {
     "name": "stderr",
     "output_type": "stream",
     "text": [
      "Processing paragraphs (Errors: 76737/1231360 [6.23%]): 100%|██████████| 1232206/1232206 [38:34<00:00, 532.45paragraph/s] \n"
     ]
    }
   ],
   "source": [
    "all_docs = []\n",
    "import torch\n",
    "\n",
    "with torch.no_grad():\n",
    "    with torch.inference_mode():\n",
    "\n",
    "        if not os.path.exists(OUTPUT_FOLDER):\n",
    "            os.makedirs(OUTPUT_FOLDER, mode=0o755, exist_ok=True)\n",
    "        print(OUTPUT_FOLDER)\n",
    "        for i, chunk in enumerate(split_every(100_000, read_docs(BATCH_SIZE, LINES))):\n",
    "            db = DocBin(docs=chunk)\n",
    "            db.to_disk(os.path.join(OUTPUT_FOLDER, f\"chunk-{i + 1}.spacy\"))\n"
   ],
   "metadata": {
    "collapsed": false,
    "ExecuteTime": {
     "end_time": "2023-12-07T11:31:05.850181862Z",
     "start_time": "2023-12-07T10:52:13.268373167Z"
    }
   },
   "id": "2f5f9a383b03372a"
  },
  {
   "cell_type": "code",
   "execution_count": null,
   "outputs": [],
   "source": [],
   "metadata": {
    "collapsed": false
   },
   "id": "8d98f67129faa9e"
  }
 ],
 "metadata": {
  "kernelspec": {
   "display_name": "Python 3 (ipykernel)",
   "language": "python",
   "name": "python3"
  },
  "language_info": {
   "codemirror_mode": {
    "name": "ipython",
    "version": 3
   },
   "file_extension": ".py",
   "mimetype": "text/x-python",
   "name": "python",
   "nbconvert_exporter": "python",
   "pygments_lexer": "ipython3",
   "version": "3.11.6"
  },
  "widgets": {
   "application/vnd.jupyter.widget-state+json": {
    "state": {},
    "version_major": 2,
    "version_minor": 0
   }
  }
 },
 "nbformat": 4,
 "nbformat_minor": 5
}
