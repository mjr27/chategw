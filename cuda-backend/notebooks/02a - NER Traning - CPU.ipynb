{
 "cells": [
  {
   "cell_type": "code",
   "execution_count": 3,
   "id": "initial_id",
   "metadata": {
    "collapsed": true,
    "ExecuteTime": {
     "end_time": "2023-12-07T11:56:20.110928110Z",
     "start_time": "2023-12-07T11:56:19.199586613Z"
    }
   },
   "outputs": [],
   "source": [
    "from spacy.cli.train import train\n",
    "import os.path\n",
    "BASE_DIR = \"../data/v4\"\n",
    "use_gpu = -1"
   ]
  },
  {
   "cell_type": "code",
   "execution_count": null,
   "outputs": [
    {
     "name": "stdout",
     "output_type": "stream",
     "text": [
      "\u001B[38;5;2m✔ Created output directory: ../data/v4-model.cpu\u001B[0m\n",
      "\u001B[38;5;4mℹ Saving to output directory: ../data/v4-model.cpu\u001B[0m\n",
      "\u001B[38;5;4mℹ Using CPU\u001B[0m\n",
      "\u001B[38;5;4mℹ To switch to GPU 0, use the option: --gpu-id 0\u001B[0m\n",
      "\u001B[1m\n",
      "=========================== Initializing pipeline ===========================\u001B[0m\n",
      "\u001B[38;5;2m✔ Initialized pipeline\u001B[0m\n",
      "\u001B[1m\n",
      "============================= Training pipeline =============================\u001B[0m\n",
      "\u001B[38;5;4mℹ Pipeline: ['tok2vec', 'parser', 'ner']\u001B[0m\n",
      "\u001B[38;5;4mℹ Initial learn rate: 0.001\u001B[0m\n",
      "E    #       LOSS TOK2VEC  LOSS PARSER  LOSS NER  DEP_UAS  DEP_LAS  SENTS_F  ENTS_F  ENTS_P  ENTS_R  SCORE \n",
      "---  ------  ------------  -----------  --------  -------  -------  -------  ------  ------  ------  ------\n"
     ]
    }
   ],
   "source": [
    "root = BASE_DIR.rstrip('/')\n",
    "train(\"../configs/cpu_config.cfg\", root + \"-model.cpu\", overrides={\"paths.train\": os.path.join(root, \"train\"), \"paths.dev\": os.path.join(root, \"dev\")}, use_gpu=use_gpu)\n"
   ],
   "metadata": {
    "collapsed": false,
    "is_executing": true,
    "ExecuteTime": {
     "start_time": "2023-12-07T11:56:20.711031436Z"
    }
   },
   "id": "a6d93f0856ed90fc"
  },
  {
   "cell_type": "code",
   "execution_count": null,
   "outputs": [],
   "source": [],
   "metadata": {
    "collapsed": false
   },
   "id": "fa08d433c9dfb2b0"
  }
 ],
 "metadata": {
  "kernelspec": {
   "display_name": "Python 3",
   "language": "python",
   "name": "python3"
  },
  "language_info": {
   "codemirror_mode": {
    "name": "ipython",
    "version": 2
   },
   "file_extension": ".py",
   "mimetype": "text/x-python",
   "name": "python",
   "nbconvert_exporter": "python",
   "pygments_lexer": "ipython2",
   "version": "2.7.6"
  }
 },
 "nbformat": 4,
 "nbformat_minor": 5
}
