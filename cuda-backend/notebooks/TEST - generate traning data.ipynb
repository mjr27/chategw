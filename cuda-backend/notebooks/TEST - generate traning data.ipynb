{
 "cells": [
  {
   "cell_type": "code",
   "execution_count": 145,
   "outputs": [],
   "source": [
    "import json\n",
    "\n",
    "with open('../models/book-synonyms.json', 'r') as file:\n",
    "    # Load JSON data from file\n",
    "    publications = json.load(file)\n",
    "\n",
    "with open('../models/bible-synonyms.json', 'r') as file:\n",
    "    # Load JSON data from file\n",
    "    bible = json.load(file)\n",
    "\n",
    "BOOK_TEMPLATES = [\n",
    "    \"the book %book%\",\n",
    "    \"the book of %book%\",\n",
    "    \"%book% v. %page%-%endpage%\",\n",
    "    \"%book%\",\n",
    "    \"%book% %page%\",\n",
    "    \"%book% page %page%\",\n",
    "    \"%book%, page %page%\",\n",
    "    \"%book% pp %page%-%endpage%\",\n",
    "    \"%book% pp. %page%-%endpage%\",\n",
    "    \"%book%, pp %page%-%endpage%\",\n",
    "    \"%book%, pp. %page%-%endpage%\",\n",
    "    \"%book% page %page%-%endpage%\",\n",
    "    \"%book%, page %page%-%endpage%\",\n",
    "    \"%book% pages %page%-%endpage%\",\n",
    "    \"%book%, pages %page%-%endpage%\",\n",
    "    \"%book% page %page% to %endpage%\",\n",
    "    \"%book%, page %page% to %endpage%\",\n",
    "    \"%book% pages %page% to %endpage%\",\n",
    "    \"%book%, pages %page% to %endpage%\",\n",
    "    \"chapter %chapter% of %book%\",\n",
    "    \"chapter %chapter%-%endchapter% of %book%\",\n",
    "    \"chapters %chapter%-%endchapter% of %book%\",\n",
    "    \"chapter %chapter% - %endchapter% of %book%\",\n",
    "    \"chapters %chapter% - %endchapter% of %book%\",\n",
    "    \"chapter %chapter% to %endchapter% of %book%\",\n",
    "    \"chapters %chapter% to %endchapter% of %book%\",\n",
    "    # \"article %article% of %book%\",\n",
    "    \"page %page% of %book%\",\n",
    "    \"page %page%-%endpage% of %book%\",\n",
    "    \"pages %page%-%endpage% of %book%\",\n",
    "    \"page %page%-%endpage% of %book%\",\n",
    "    \"pages %page% - %endpage% of %book%\",\n",
    "    \"page %page% - %endpage% of %book%\",\n",
    "    \"pages %page%-%endpage% of %book%\",\n",
    "    \"page %page% to %endpage% of %book%\",\n",
    "    \"pages %page% to %endpage% of %book%\",\n",
    "]\n",
    "\n",
    "BIBLE_TEMPLATES = [\n",
    "    \"%book%\",\n",
    "    \"kjv %book%\",\n",
    "    \"%book% %page%\",\n",
    "    \"kjv %book% %page%\",\n",
    "    \"book %book% %page%\",\n",
    "    \"kjv %book% %page%-%endpage%\",\n",
    "    \"book %book% %page%-%endpage%\",\n",
    "    \"%book% %page% %paragraph%\",\n",
    "    \"kjv %book% %page% %paragraph% \",\n",
    "    \"book %book% %page% %paragraph% \",\n",
    "    \"kjv %book% %page% %paragraph%-%endparagraph%\",\n",
    "    \"book %book% %page% %paragraph%-%endparagraph%\",\n",
    "]"
   ],
   "metadata": {
    "collapsed": false,
    "ExecuteTime": {
     "end_time": "2023-12-14T11:45:02.093101450Z",
     "start_time": "2023-12-14T11:45:02.049000320Z"
    }
   },
   "id": "fcc108d64ac94906"
  },
  {
   "cell_type": "code",
   "execution_count": 149,
   "outputs": [],
   "source": [
    "import typing\n",
    "from spacy.tokens import Doc\n",
    "import spacy\n",
    "\n",
    "import random\n",
    "import string\n",
    "\n",
    "nlp = spacy.blank(\"en\")\n",
    "\n",
    "def make(bookname: str, template: str):\n",
    "    page = random.randint(1, 500)\n",
    "    endpage = random.randint(page + 1, page + 20)\n",
    "    chapter = random.randint(1, 70)\n",
    "    endchapter = random.randint(chapter + 1, chapter + 10)\n",
    "    paragraph = random.randint(1, 20)\n",
    "    endparagraph = random.randint(paragraph + 1, paragraph + 20)\n",
    "\n",
    "    book_placeholder = 'Й' * len(bookname)\n",
    "    page_placeholder = 'Ц' * len(str(page))\n",
    "    endpage_placeholder = 'У' * len(str(endpage))\n",
    "    chapter_placeholder = 'К' * len(str(chapter))\n",
    "    endchapter_placeholder = 'Е' * len(str(endchapter))\n",
    "    paragraph_placeholder = 'Н' * len(str(paragraph))\n",
    "    endparagraph_placeholder = 'Г' * len(str(endparagraph))\n",
    "\n",
    "    result = template\n",
    "    result = result.replace('%book%', book_placeholder)\n",
    "    result = result.replace('%page%', page_placeholder)\n",
    "    result = result.replace('%endpage%', endpage_placeholder)\n",
    "    result = result.replace('%chapter%', chapter_placeholder)\n",
    "    result = result.replace('%endchapter%', endchapter_placeholder)\n",
    "    result = result.replace('%paragraph%', paragraph_placeholder)\n",
    "    result = result.replace('%endparagraph%', endparagraph_placeholder)\n",
    "\n",
    "    book_position = result.find(book_placeholder)\n",
    "    book_end = book_position + len(book_placeholder)\n",
    "\n",
    "    page_position = result.find(page_placeholder)\n",
    "    page_end = page_position + len(page_placeholder)\n",
    "\n",
    "    endpage_position = result.find(endpage_placeholder)\n",
    "    endpage_end = endpage_position + len(endpage_placeholder)\n",
    "\n",
    "    chapter_position = result.find(chapter_placeholder)\n",
    "    chapter_end = chapter_position + len(chapter_placeholder)\n",
    "\n",
    "    endchapter_position = result.find(endchapter_placeholder)\n",
    "    endchapter_end = endchapter_position + len(endchapter_placeholder)\n",
    "\n",
    "    paragraph_position = result.find(paragraph_placeholder)\n",
    "    paragraph_end = paragraph_position + len(paragraph_placeholder)\n",
    "\n",
    "    endparagraph_position = result.find(endparagraph_placeholder)\n",
    "    endparagraph_end = endparagraph_position + len(endparagraph_placeholder)\n",
    "\n",
    "    result = result.replace(book_placeholder, bookname)\n",
    "    result = result.replace(page_placeholder, str(page))\n",
    "    result = result.replace(endpage_placeholder, str(endpage))\n",
    "    result = result.replace(chapter_placeholder, str(chapter))\n",
    "    result = result.replace(endchapter_placeholder, str(endchapter))\n",
    "    result = result.replace(paragraph_placeholder, str(paragraph))\n",
    "    result = result.replace(endparagraph_placeholder, str(endparagraph))\n",
    "\n",
    "    # print(result)\n",
    "    doc = nlp(result)\n",
    "    # print(list(doc.sents))\n",
    "    # print(bookname, book_position, book_end)\n",
    "    ents = []\n",
    "    ents.append(doc.char_span(book_position, book_end, label='BOOK'))\n",
    "    if page_position >= 0:\n",
    "        ents.append(doc.char_span(page_position, page_end, label='PAGE'))\n",
    "    if endpage_position >= 0:\n",
    "        ents.append(doc.char_span(endpage_position, endpage_end, label='ENDPAGE'))\n",
    "    if chapter_position >= 0:\n",
    "        ents.append(doc.char_span(chapter_position, chapter_end, label='CHAPTER'))\n",
    "    if endchapter_position >= 0:\n",
    "        ents.append(doc.char_span(endchapter_position, endchapter_end, label='ENDCHAPTER'))\n",
    "    if paragraph_position >= 0:\n",
    "        ents.append(doc.char_span(paragraph_position, paragraph_end, label='PARAGRAPH'))\n",
    "    if endparagraph_position >= 0:\n",
    "        ents.append(doc.char_span(endparagraph_position, endparagraph_end, label='ENDPARAGRAPH'))\n",
    "    doc.ents = ents\n",
    "    return doc\n",
    "\n",
    "\n",
    "def make_variants(bookname: str, template: str) -> typing.Iterable[Doc]:\n",
    "    yield make(bookname, template)\n",
    "    yield make(bookname.lower(), template)\n",
    "    yield make(bookname.translate(str.maketrans('', '', string.punctuation)), template)\n",
    "\n",
    "\n",
    "def process(publications, templates):\n",
    "    for publication in publications:\n",
    "        for template in templates:\n",
    "            for synonym in publication['synonyms']:\n",
    "                yield from make_variants(synonym, template)\n",
    "\n"
   ],
   "metadata": {
    "collapsed": false,
    "ExecuteTime": {
     "end_time": "2023-12-14T11:45:17.707466474Z",
     "start_time": "2023-12-14T11:45:17.657847114Z"
    }
   },
   "id": "fa251b3daf8d536e"
  },
  {
   "cell_type": "code",
   "execution_count": 150,
   "outputs": [
    {
     "name": "stdout",
     "output_type": "stream",
     "text": [
      "zsh:1: no matches found: ../models/ner_*.spacy\r\n"
     ]
    }
   ],
   "source": [
    "!rm ../models/ner_*.spacy || true"
   ],
   "metadata": {
    "collapsed": false,
    "ExecuteTime": {
     "end_time": "2023-12-14T11:45:18.582689654Z",
     "start_time": "2023-12-14T11:45:18.413692598Z"
    }
   },
   "id": "d7f514d04fc98194"
  },
  {
   "cell_type": "code",
   "execution_count": 151,
   "outputs": [],
   "source": [
    "def fill_templates(data, templates, count):\n",
    "    result = []\n",
    "    for n in range(count):\n",
    "        result.extend(process(data, templates))\n",
    "    random.shuffle(result)\n",
    "    return result\n",
    "\n",
    "\n",
    "docs = fill_templates(publications, BOOK_TEMPLATES, 5)\n",
    "bible_docs = fill_templates(bible, BIBLE_TEMPLATES, 20)\n",
    "\n",
    "# \n",
    "# def _save(docs, path):\n",
    "#     db = DocBin(docs=docs)\n",
    "#     db.to_disk(path)\n",
    "# \n",
    "# \n",
    "# _save(train, \"../models/ner_train.spacy\")\n",
    "# _save(dev, \"../models/ner_dev.spacy\")\n",
    "# _save(test, \"../models/ner_test.spacy\")"
   ],
   "metadata": {
    "collapsed": false,
    "ExecuteTime": {
     "end_time": "2023-12-14T11:45:37.297088534Z",
     "start_time": "2023-12-14T11:45:19.186405515Z"
    }
   },
   "id": "cbc5863096782170"
  },
  {
   "cell_type": "code",
   "execution_count": 152,
   "outputs": [],
   "source": [
    "def do_split(data, train_split=0.8, dev_split=0.1):\n",
    "    return (data[:int(len(data) * train_split)],\n",
    "            data[int(len(data) * train_split):int(len(data) * (train_split + dev_split))],\n",
    "            data[int(len(data) * (train_split + dev_split)):])\n",
    "\n",
    "\n",
    "train, dev, test = do_split(docs)\n",
    "train_bible, dev_bible, test_bible = do_split(bible_docs)"
   ],
   "metadata": {
    "collapsed": false,
    "ExecuteTime": {
     "end_time": "2023-12-14T11:45:42.018538652Z",
     "start_time": "2023-12-14T11:45:41.723994626Z"
    }
   },
   "id": "a77b074aee5d76c2"
  },
  {
   "cell_type": "code",
   "execution_count": 153,
   "outputs": [
    {
     "data": {
      "text/plain": "(508200, 132480)"
     },
     "execution_count": 153,
     "metadata": {},
     "output_type": "execute_result"
    }
   ],
   "source": [
    "(len(train), len(train_bible))"
   ],
   "metadata": {
    "collapsed": false,
    "ExecuteTime": {
     "end_time": "2023-12-14T11:45:44.233288844Z",
     "start_time": "2023-12-14T11:45:44.230624628Z"
    }
   },
   "id": "d65a0cef5acf6d54"
  },
  {
   "cell_type": "code",
   "execution_count": 154,
   "outputs": [],
   "source": [
    "from spacy.tokens import DocBin\n",
    "\n",
    "\n",
    "def _save(docs, path):\n",
    "    db = DocBin(docs=docs)\n",
    "    db.to_disk(path)\n",
    "# \n",
    "# \n",
    "_save(train + train_bible, \"../models/ner_train.spacy\")\n",
    "_save(dev + dev_bible, \"../models/ner_dev.spacy\")\n",
    "_save(test + test_bible, \"../models/ner_test.spacy\")"
   ],
   "metadata": {
    "collapsed": false,
    "ExecuteTime": {
     "end_time": "2023-12-14T11:45:57.880400657Z",
     "start_time": "2023-12-14T11:45:45.738669251Z"
    }
   },
   "id": "4f4403d490b201e0"
  },
  {
   "cell_type": "code",
   "execution_count": 155,
   "outputs": [
    {
     "name": "stdout",
     "output_type": "stream",
     "text": [
      "-rw-rw-r-- 1 mjr mjr  4717523 Dec 14 13:45 ../models/ner_dev.spacy\r\n",
      "-rw-rw-r-- 1 mjr mjr  4713748 Dec 14 13:45 ../models/ner_test.spacy\r\n",
      "-rw-rw-r-- 1 mjr mjr 37624422 Dec 14 13:45 ../models/ner_train.spacy\r\n"
     ]
    }
   ],
   "source": [
    "!ls -l ../models/ner_*.spacy\n"
   ],
   "metadata": {
    "collapsed": false,
    "ExecuteTime": {
     "end_time": "2023-12-14T11:46:23.788660858Z",
     "start_time": "2023-12-14T11:46:23.608984464Z"
    }
   },
   "id": "100c228378ddceb2"
  },
  {
   "cell_type": "code",
   "execution_count": 156,
   "outputs": [
    {
     "name": "stdout",
     "output_type": "stream",
     "text": [
      "\u001B[38;5;2m✔ Auto-filled config with all values\u001B[0m\r\n",
      "\u001B[38;5;2m✔ Saved config\u001B[0m\r\n",
      "../models/ner_config.cfg\r\n",
      "You can now add your data and train your pipeline:\r\n",
      "python -m spacy train ner_config.cfg --paths.train ./train.spacy --paths.dev ./dev.spacy\r\n"
     ]
    }
   ],
   "source": [
    "!python -m spacy init fill-config ../models/ner_base_config.cfg ../models/ner_config.cfg"
   ],
   "metadata": {
    "collapsed": false,
    "ExecuteTime": {
     "end_time": "2023-12-14T11:46:26.524294652Z",
     "start_time": "2023-12-14T11:46:25.011553757Z"
    }
   },
   "id": "b34c5a8559bcad2c"
  },
  {
   "cell_type": "code",
   "execution_count": 157,
   "outputs": [
    {
     "name": "stdout",
     "output_type": "stream",
     "text": [
      "\u001B[38;5;2m✔ Created output directory: ../models/ner_model\u001B[0m\r\n",
      "\u001B[38;5;4mℹ Saving to output directory: ../models/ner_model\u001B[0m\r\n",
      "\u001B[38;5;4mℹ Using GPU: 0\u001B[0m\r\n",
      "\u001B[1m\r\n",
      "=========================== Initializing pipeline ===========================\u001B[0m\r\n",
      "\u001B[38;5;2m✔ Initialized pipeline\u001B[0m\r\n",
      "\u001B[1m\r\n",
      "============================= Training pipeline =============================\u001B[0m\r\n",
      "\u001B[38;5;4mℹ Pipeline: ['tok2vec', 'ner']\u001B[0m\r\n",
      "\u001B[38;5;4mℹ Initial learn rate: 0.001\u001B[0m\r\n",
      "E    #       LOSS TOK2VEC  LOSS NER  ENTS_F  ENTS_P  ENTS_R  SCORE \r\n",
      "---  ------  ------------  --------  ------  ------  ------  ------\r\n",
      "  0       0          0.00     73.87    0.39    3.01    0.21    0.00\r\n",
      "  0     200        131.57   3543.32   99.52   99.52   99.53    1.00\r\n",
      "  0     400         75.24     68.74   99.98   99.98   99.97    1.00\r\n",
      "  0     600         30.98     13.06   99.92   99.91   99.93    1.00\r\n",
      "  0     800         60.60     22.46   99.97   99.97   99.97    1.00\r\n",
      "  0    1000         46.99     13.94   99.99   99.99   99.98    1.00\r\n",
      "  0    1200         22.35      7.04  100.00  100.00   99.99    1.00\r\n",
      "  0    1400         82.31     22.61   99.99   99.99   99.99    1.00\r\n",
      "  0    1600        141.58     37.02   99.98   99.98   99.98    1.00\r\n",
      "  0    1800        101.93     24.40  100.00  100.00  100.00    1.00\r\n",
      "  0    2000         36.66     10.11   99.99   99.99   99.99    1.00\r\n",
      "  0    2200        126.35     24.06  100.00  100.00  100.00    1.00\r\n",
      "  0    2400         84.30     15.14  100.00  100.00  100.00    1.00\r\n",
      "  0    2600          0.00      0.00  100.00  100.00  100.00    1.00\r\n",
      "  0    2800         20.14      5.07  100.00  100.00  100.00    1.00\r\n",
      "  0    3000         13.99      2.80  100.00  100.00  100.00    1.00\r\n",
      "  0    3200         52.42      8.90  100.00  100.00  100.00    1.00\r\n",
      "  0    3400         51.95      6.15  100.00  100.00  100.00    1.00\r\n",
      "  0    3600        417.91     70.59   99.98   99.97   99.99    1.00\r\n",
      "  0    3800        197.64     17.32  100.00  100.00  100.00    1.00\r\n",
      "  0    4000        140.96     17.75  100.00  100.00  100.00    1.00\r\n",
      "  0    4200         29.79      4.51  100.00  100.00  100.00    1.00\r\n",
      "  0    4400        129.35     12.63  100.00  100.00  100.00    1.00\r\n",
      "  0    4600         50.31      3.99  100.00  100.00  100.00    1.00\r\n",
      "\u001B[38;5;2m✔ Saved pipeline to output directory\u001B[0m\r\n",
      "../models/ner_model/model-last\r\n"
     ]
    }
   ],
   "source": [
    "!rm -Rf ../models/ner_model\n",
    "!python -m spacy train ../models/ner_config.cfg --output ../models/ner_model --paths.train ../models/ner_train.spacy --paths.dev ../models/ner_dev.spacy --gpu-id 0"
   ],
   "metadata": {
    "collapsed": false,
    "ExecuteTime": {
     "end_time": "2023-12-14T11:56:05.055710397Z",
     "start_time": "2023-12-14T11:46:36.178931240Z"
    }
   },
   "id": "c2cb9abf586901ae"
  },
  {
   "cell_type": "code",
   "execution_count": 158,
   "outputs": [
    {
     "name": "stdout",
     "output_type": "stream",
     "text": [
      "\u001B[38;5;4mℹ Using GPU: 0\u001B[0m\r\n",
      "\u001B[1m\r\n",
      "================================== Results ==================================\u001B[0m\r\n",
      "\r\n",
      "TOK     100.00\r\n",
      "NER P   100.00\r\n",
      "NER R   100.00\r\n",
      "NER F   100.00\r\n",
      "SPEED   153320\r\n",
      "\r\n",
      "\u001B[1m\r\n",
      "=============================== NER (per type) ===============================\u001B[0m\r\n",
      "\r\n",
      "                    P        R        F\r\n",
      "BOOK           100.00   100.00   100.00\r\n",
      "PAGE           100.00   100.00   100.00\r\n",
      "ENDPAGE        100.00   100.00   100.00\r\n",
      "CHAPTER        100.00   100.00   100.00\r\n",
      "ENDCHAPTER     100.00   100.00   100.00\r\n",
      "PARAGRAPH      100.00   100.00   100.00\r\n",
      "ENDPARAGRAPH   100.00   100.00   100.00\r\n",
      "\r\n"
     ]
    }
   ],
   "source": [
    "!python -m spacy evaluate ../models/ner_model/model-best ../models/ner_test.spacy --gpu-id 0"
   ],
   "metadata": {
    "collapsed": false,
    "ExecuteTime": {
     "end_time": "2023-12-14T11:57:17.727947387Z",
     "start_time": "2023-12-14T11:57:04.236539799Z"
    }
   },
   "id": "966c9c89e4c5902a"
  },
  {
   "cell_type": "code",
   "execution_count": 159,
   "outputs": [],
   "source": [
    "nlp2 = spacy.load(\"../models/ner_model/model-best\")\n"
   ],
   "metadata": {
    "collapsed": false,
    "ExecuteTime": {
     "end_time": "2023-12-14T11:57:19.414004637Z",
     "start_time": "2023-12-14T11:57:19.297120635Z"
    }
   },
   "id": "f1e03a504bf91bc9"
  },
  {
   "cell_type": "code",
   "execution_count": 160,
   "outputs": [],
   "source": [
    "doc2 = nlp2(\"romans 5 8\")"
   ],
   "metadata": {
    "collapsed": false,
    "ExecuteTime": {
     "end_time": "2023-12-14T11:57:23.980471304Z",
     "start_time": "2023-12-14T11:57:23.971416734Z"
    }
   },
   "id": "f7b0dc60aa8daf7b"
  },
  {
   "cell_type": "code",
   "execution_count": 161,
   "outputs": [
    {
     "name": "stdout",
     "output_type": "stream",
     "text": [
      "s> romans\n",
      "s> 5\n",
      "s> 8\n"
     ]
    }
   ],
   "source": [
    "for s in doc2:\n",
    "    print(\"s>\", s)"
   ],
   "metadata": {
    "collapsed": false,
    "ExecuteTime": {
     "end_time": "2023-12-14T11:57:24.538422892Z",
     "start_time": "2023-12-14T11:57:24.536507436Z"
    }
   },
   "id": "35608b596b3c4fbc"
  },
  {
   "cell_type": "code",
   "execution_count": 162,
   "outputs": [
    {
     "name": "stdout",
     "output_type": "stream",
     "text": [
      "romans BOOK\n",
      "5 PAGE\n",
      "8 PARAGRAPH\n"
     ]
    }
   ],
   "source": [
    "for ent in doc2.ents:\n",
    "    print(ent, ent.label_)"
   ],
   "metadata": {
    "collapsed": false,
    "ExecuteTime": {
     "end_time": "2023-12-14T11:57:25.384652669Z",
     "start_time": "2023-12-14T11:57:25.378613802Z"
    }
   },
   "id": "b5e2a7edbdb915fc"
  },
  {
   "cell_type": "code",
   "execution_count": 143,
   "outputs": [],
   "source": [],
   "metadata": {
    "collapsed": false,
    "ExecuteTime": {
     "end_time": "2023-12-14T11:18:26.974055241Z",
     "start_time": "2023-12-14T11:18:26.971675939Z"
    }
   },
   "id": "87b5f3c6a6256510"
  }
 ],
 "metadata": {
  "kernelspec": {
   "display_name": "Python 3",
   "language": "python",
   "name": "python3"
  },
  "language_info": {
   "codemirror_mode": {
    "name": "ipython",
    "version": 2
   },
   "file_extension": ".py",
   "mimetype": "text/x-python",
   "name": "python",
   "nbconvert_exporter": "python",
   "pygments_lexer": "ipython2",
   "version": "2.7.6"
  }
 },
 "nbformat": 4,
 "nbformat_minor": 5
}
