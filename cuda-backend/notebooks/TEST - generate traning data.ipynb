{
 "cells": [
  {
   "cell_type": "code",
   "execution_count": 134,
   "outputs": [],
   "source": [
    "# read json from ../models/Result_28.json\n",
    "import json\n",
    "\n",
    "with open('../models/Result_28.json', 'r') as file:\n",
    "    # Load JSON data from file\n",
    "    publications = json.load(file)\n",
    "\n",
    "TEMPLATES = [\n",
    "    \"the book %book%\",\n",
    "    \"the book of %book%\",\n",
    "    \"%book% v. %page%-%endpage%\",\n",
    "    \"%book%\",\n",
    "    \"%book% %page%\",\n",
    "    \"%book% page %page%\",\n",
    "    \"%book%, page %page%\",\n",
    "    \"%book% pp %page%-%endpage%\",\n",
    "    \"%book% pp. %page%-%endpage%\",\n",
    "    \"%book%, pp %page%-%endpage%\",\n",
    "    \"%book%, pp. %page%-%endpage%\",\n",
    "    \"%book% page %page%-%endpage%\",\n",
    "    \"%book%, page %page%-%endpage%\",\n",
    "    \"%book% pages %page%-%endpage%\",\n",
    "    \"%book%, pages %page%-%endpage%\",\n",
    "    \"%book% page %page% to %endpage%\",\n",
    "    \"%book%, page %page% to %endpage%\",\n",
    "    \"%book% pages %page% to %endpage%\",\n",
    "    \"%book%, pages %page% to %endpage%\",\n",
    "    \"chapter %chapter% of %book%\",\n",
    "    \"chapter %chapter%-%endchapter% of %book%\",\n",
    "    \"chapters %chapter%-%endchapter% of %book%\",\n",
    "    \"chapter %chapter% - %endchapter% of %book%\",\n",
    "    \"chapters %chapter% - %endchapter% of %book%\",\n",
    "    \"chapter %chapter% to %endchapter% of %book%\",\n",
    "    \"chapters %chapter% to %endchapter% of %book%\",\n",
    "    # \"article %article% of %book%\",\n",
    "    \"page %page% of %book%\",\n",
    "    \"page %page%-%endpage% of %book%\",\n",
    "    \"pages %page%-%endpage% of %book%\",\n",
    "    \"page %page%-%endpage% of %book%\",\n",
    "    \"pages %page% - %endpage% of %book%\",\n",
    "    \"page %page% - %endpage% of %book%\",\n",
    "    \"pages %page%-%endpage% of %book%\",\n",
    "    \"page %page% to %endpage% of %book%\",\n",
    "    \"pages %page% to %endpage% of %book%\",\n",
    "]"
   ],
   "metadata": {
    "collapsed": false,
    "ExecuteTime": {
     "end_time": "2023-12-05T15:27:11.140716563Z",
     "start_time": "2023-12-05T15:27:11.098196219Z"
    }
   },
   "id": "fcc108d64ac94906"
  },
  {
   "cell_type": "code",
   "execution_count": 136,
   "outputs": [],
   "source": [
    "import typing\n",
    "from spacy.tokens import Doc, DocBin\n",
    "import spacy\n",
    "\n",
    "import random\n",
    "import string\n",
    "\n",
    "nlp = spacy.blank(\"en\")\n",
    "\n",
    "\n",
    "def make(bookname: str, template: str):\n",
    "    page = random.randint(1, 500)\n",
    "    endpage = random.randint(page + 1, page + 20)\n",
    "    chapter = random.randint(1, 70)\n",
    "    endchapter = random.randint(chapter + 1, chapter + 10)\n",
    "\n",
    "    book_placeholder = 'Й' * len(bookname)\n",
    "    page_placeholder = 'Ц' * len(str(page))\n",
    "    endpage_placeholder = 'У' * len(str(endpage))\n",
    "    chapter_placeholder = 'К' * len(str(chapter))\n",
    "    endchapter_placeholder = 'Е' * len(str(endchapter))\n",
    "\n",
    "    result = template.replace('%book%', book_placeholder)\n",
    "    result = result.replace('%page%', page_placeholder)\n",
    "    result = result.replace('%endpage%', endpage_placeholder)\n",
    "    result = result.replace('%chapter%', chapter_placeholder)\n",
    "    result = result.replace('%endchapter%', endchapter_placeholder)\n",
    "\n",
    "    book_position = result.find(book_placeholder)\n",
    "    book_end = book_position + len(book_placeholder)\n",
    "\n",
    "    page_position = result.find(page_placeholder)\n",
    "    page_end = page_position + len(page_placeholder)\n",
    "\n",
    "    endpage_position = result.find(endpage_placeholder)\n",
    "    endpage_end = endpage_position + len(endpage_placeholder)\n",
    "\n",
    "    chapter_position = result.find(chapter_placeholder)\n",
    "    chapter_end = chapter_position + len(chapter_placeholder)\n",
    "\n",
    "    endchapter_position = result.find(endchapter_placeholder)\n",
    "    endchapter_end = endchapter_position + len(endchapter_placeholder)\n",
    "\n",
    "    result = result.replace(book_placeholder, bookname)\n",
    "    result = result.replace(page_placeholder, str(page))\n",
    "    result = result.replace(endpage_placeholder, str(endpage))\n",
    "    result = result.replace(chapter_placeholder, str(chapter))\n",
    "    result = result.replace(endchapter_placeholder, str(endchapter))\n",
    "\n",
    "    # print(result)\n",
    "    doc = nlp(result)\n",
    "    # print(list(doc.sents))\n",
    "    # print(bookname, book_position, book_end)\n",
    "    ents = []\n",
    "    ents.append(doc.char_span(book_position, book_end, label='BOOK'))\n",
    "    if page_position >= 0:\n",
    "        ents.append(doc.char_span(page_position, page_end, label='PAGE'))\n",
    "    if endpage_position >= 0:\n",
    "        ents.append(doc.char_span(endpage_position, endpage_end, label='ENDPAGE'))\n",
    "    if chapter_position >= 0:\n",
    "        ents.append(doc.char_span(chapter_position, chapter_end, label='CHAPTER'))\n",
    "    if endchapter_position >= 0:\n",
    "        ents.append(doc.char_span(endchapter_position, endchapter_end, label='ENDCHAPTER'))\n",
    "    doc.ents = ents\n",
    "    return doc\n",
    "\n",
    "\n",
    "def make_variants(bookname: str, template: str) -> typing.Iterable[Doc]:\n",
    "    yield make(bookname, template)\n",
    "    yield make(bookname.lower(), template)\n",
    "    yield make(bookname.translate(str.maketrans('', '', string.punctuation)), template)\n",
    "\n",
    "\n",
    "def process():\n",
    "    for publication in publications:\n",
    "        for template in TEMPLATES:\n",
    "            for synonym in publication['synonyms']:\n",
    "                yield from make_variants(synonym, template)\n",
    "\n",
    "\n"
   ],
   "metadata": {
    "collapsed": false,
    "ExecuteTime": {
     "end_time": "2023-12-06T09:15:42.074193545Z",
     "start_time": "2023-12-06T09:15:42.021217436Z"
    }
   },
   "id": "fa251b3daf8d536e"
  },
  {
   "cell_type": "code",
   "execution_count": 130,
   "outputs": [],
   "source": [
    "!rm ../models/ner_*.spacy\n",
    "docs = list(process())\n",
    "random.shuffle(docs)\n",
    "train, dev, test = (docs[:int(len(docs) * 0.8)],\n",
    "                    docs[int(len(docs) * 0.8):int(len(docs) * 0.9)],\n",
    "                    docs[int(len(docs) * 0.9):])\n",
    "def _save(docs, path):\n",
    "    db = DocBin(docs=docs)\n",
    "    db.to_disk(path)\n",
    "_save(train, \"../models/ner_train.spacy\")\n",
    "_save(dev, \"../models/ner_dev.spacy\")\n",
    "_save(test, \"../models/ner_test.spacy\")"
   ],
   "metadata": {
    "collapsed": false,
    "ExecuteTime": {
     "end_time": "2023-12-05T14:36:16.916020973Z",
     "start_time": "2023-12-05T14:36:10.868636274Z"
    }
   },
   "id": "cbc5863096782170"
  },
  {
   "cell_type": "code",
   "execution_count": 131,
   "outputs": [
    {
     "name": "stdout",
     "output_type": "stream",
     "text": [
      "\u001B[38;5;2m✔ Auto-filled config with all values\u001B[0m\r\n",
      "\u001B[38;5;2m✔ Saved config\u001B[0m\r\n",
      "../models/ner_config.cfg\r\n",
      "You can now add your data and train your pipeline:\r\n",
      "python -m spacy train ner_config.cfg --paths.train ./train.spacy --paths.dev ./dev.spacy\r\n"
     ]
    }
   ],
   "source": [
    "!python -m spacy init fill-config ../models/ner_base_config.cfg ../models/ner_config.cfg"
   ],
   "metadata": {
    "collapsed": false,
    "ExecuteTime": {
     "end_time": "2023-12-05T14:36:40.056440110Z",
     "start_time": "2023-12-05T14:36:38.575041113Z"
    }
   },
   "id": "b34c5a8559bcad2c"
  },
  {
   "cell_type": "code",
   "execution_count": 132,
   "outputs": [
    {
     "name": "stdout",
     "output_type": "stream",
     "text": [
      "\u001B[38;5;2m✔ Created output directory: ../models/ner_model\u001B[0m\r\n",
      "\u001B[38;5;4mℹ Saving to output directory: ../models/ner_model\u001B[0m\r\n",
      "\u001B[38;5;4mℹ Using GPU: 0\u001B[0m\r\n",
      "\u001B[1m\r\n",
      "=========================== Initializing pipeline ===========================\u001B[0m\r\n",
      "\u001B[38;5;2m✔ Initialized pipeline\u001B[0m\r\n",
      "\u001B[1m\r\n",
      "============================= Training pipeline =============================\u001B[0m\r\n",
      "\u001B[38;5;4mℹ Pipeline: ['tok2vec', 'ner']\u001B[0m\r\n",
      "\u001B[38;5;4mℹ Initial learn rate: 0.001\u001B[0m\r\n",
      "E    #       LOSS TOK2VEC  LOSS NER  ENTS_F  ENTS_P  ENTS_R  SCORE \r\n",
      "---  ------  ------------  --------  ------  ------  ------  ------\r\n",
      "  0       0          0.00     76.14    0.44    1.77    0.25    0.00\r\n",
      "  0     200        131.61   3159.27   99.82   99.81   99.83    1.00\r\n",
      "  0     400         19.35     22.46   99.91   99.89   99.92    1.00\r\n",
      "  0     600         77.47     47.09   99.99  100.00   99.99    1.00\r\n",
      "  0     800         17.64      7.50   99.97   99.98   99.96    1.00\r\n",
      "  0    1000         38.62     13.02   99.99   99.99   99.99    1.00\r\n",
      "  0    1200         67.39     18.00   99.99   99.99   99.98    1.00\r\n",
      "  0    1400         79.74     18.51   99.93   99.91   99.95    1.00\r\n",
      "  0    1600         73.93     18.05   99.99  100.00   99.99    1.00\r\n",
      "  0    1800         36.93      9.74  100.00  100.00  100.00    1.00\r\n",
      "  0    2000        160.50     26.01   99.99   99.99   99.99    1.00\r\n",
      "  0    2200        111.82     28.73  100.00  100.00  100.00    1.00\r\n",
      "  1    2400         33.58      5.00  100.00  100.00  100.00    1.00\r\n",
      "  1    2600         15.11      2.03  100.00  100.00  100.00    1.00\r\n",
      "  1    2800          9.25      1.96  100.00  100.00  100.00    1.00\r\n",
      "  1    3000          0.02      0.00  100.00  100.00  100.00    1.00\r\n",
      "  1    3200          0.00      0.00  100.00  100.00  100.00    1.00\r\n",
      "  2    3400         46.03      8.49  100.00  100.00  100.00    1.00\r\n",
      "\u001B[38;5;2m✔ Saved pipeline to output directory\u001B[0m\r\n",
      "../models/ner_model/model-last\r\n"
     ]
    }
   ],
   "source": [
    "!rm -Rf ../models/ner_model\n",
    "!python -m spacy train ../models/ner_config.cfg --output ../models/ner_model --paths.train ../models/ner_train.spacy --paths.dev ../models/ner_dev.spacy --gpu-id 0"
   ],
   "metadata": {
    "collapsed": false,
    "ExecuteTime": {
     "end_time": "2023-12-05T14:39:20.059811920Z",
     "start_time": "2023-12-05T14:36:42.067364630Z"
    }
   },
   "id": "c2cb9abf586901ae"
  },
  {
   "cell_type": "code",
   "execution_count": 133,
   "outputs": [
    {
     "name": "stdout",
     "output_type": "stream",
     "text": [
      "\u001B[38;5;4mℹ Using GPU: 0\u001B[0m\r\n",
      "\u001B[1m\r\n",
      "================================== Results ==================================\u001B[0m\r\n",
      "\r\n",
      "TOK     100.00\r\n",
      "NER P   100.00\r\n",
      "NER R   100.00\r\n",
      "NER F   100.00\r\n",
      "SPEED   86753 \r\n",
      "\r\n",
      "\u001B[1m\r\n",
      "=============================== NER (per type) ===============================\u001B[0m\r\n",
      "\r\n",
      "                  P        R        F\r\n",
      "BOOK         100.00   100.00   100.00\r\n",
      "PAGE         100.00   100.00   100.00\r\n",
      "ENDPAGE      100.00   100.00   100.00\r\n",
      "CHAPTER      100.00   100.00   100.00\r\n",
      "ENDCHAPTER   100.00   100.00   100.00\r\n",
      "\r\n"
     ]
    }
   ],
   "source": [
    "!python -m spacy evaluate ../models/ner_model/model-best ../models/ner_test.spacy --gpu-id 0"
   ],
   "metadata": {
    "collapsed": false,
    "ExecuteTime": {
     "end_time": "2023-12-05T14:39:24.838188588Z",
     "start_time": "2023-12-05T14:39:20.063779419Z"
    }
   },
   "id": "966c9c89e4c5902a"
  },
  {
   "cell_type": "code",
   "execution_count": null,
   "outputs": [],
   "source": [],
   "metadata": {
    "collapsed": false
   },
   "id": "f1e03a504bf91bc9"
  }
 ],
 "metadata": {
  "kernelspec": {
   "display_name": "Python 3",
   "language": "python",
   "name": "python3"
  },
  "language_info": {
   "codemirror_mode": {
    "name": "ipython",
    "version": 2
   },
   "file_extension": ".py",
   "mimetype": "text/x-python",
   "name": "python",
   "nbconvert_exporter": "python",
   "pygments_lexer": "ipython2",
   "version": "2.7.6"
  }
 },
 "nbformat": 4,
 "nbformat_minor": 5
}
