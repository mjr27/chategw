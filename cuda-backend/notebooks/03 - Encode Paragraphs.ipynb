{
 "cells": [
  {
   "cell_type": "code",
   "execution_count": 40,
   "id": "initial_id",
   "metadata": {
    "collapsed": true,
    "ExecuteTime": {
     "end_time": "2023-11-23T14:07:44.448646451Z",
     "start_time": "2023-11-23T14:07:44.406527290Z"
    }
   },
   "outputs": [],
   "source": [
    "import codecs\n",
    "import spacy\n",
    "import os\n",
    "os.environ[\"TOKENIZERS_PARALLELISM\"] = \"true\"\n",
    "from tqdm import tqdm\n",
    "\n",
    "FILENAME = \"../paragraphs-raw.tsv\"\n",
    "OUTPUT_FILENAME = \"../split.tsv\"\n",
    "# SPACY_MODEL = \"../data/v3-model.cpu/model-best\"\n",
    "SPACY_MODEL = \"en_core_web_lg\"\n",
    "allowed_labels = {'PERSON', 'LOC', 'GPE'}"
   ]
  },
  {
   "cell_type": "code",
   "execution_count": 41,
   "outputs": [],
   "source": [
    "from chategw.models.sentence_splitter import SpacySentenceSplitter\n",
    "spacy.require_cpu()\n",
    "splitter = SpacySentenceSplitter(n_process=8, spacy_model=SPACY_MODEL)\n",
    "\n",
    "def line_count(filename):\n",
    "    with open(filename, \"r\", encoding=\"utf-8\") as f:\n",
    "        return len(f.readlines())"
   ],
   "metadata": {
    "collapsed": false,
    "ExecuteTime": {
     "end_time": "2023-11-23T14:07:45.794791474Z",
     "start_time": "2023-11-23T14:07:44.975034301Z"
    }
   },
   "id": "81b988586f6e75f7"
  },
  {
   "cell_type": "code",
   "execution_count": 42,
   "outputs": [],
   "source": [
    "total_lines = line_count(FILENAME)"
   ],
   "metadata": {
    "collapsed": false,
    "ExecuteTime": {
     "end_time": "2023-11-23T14:07:47.008205108Z",
     "start_time": "2023-11-23T14:07:46.278075775Z"
    }
   },
   "id": "e0376323a9c145ca"
  },
  {
   "cell_type": "code",
   "execution_count": 43,
   "outputs": [
    {
     "name": "stderr",
     "output_type": "stream",
     "text": [
      "Splitting: 100%|██████████| 1232178/1232178 [34:51<00:00, 589.17it/s]\n"
     ]
    }
   ],
   "source": [
    "from chategw.util import split_every\n",
    "\n",
    "f = codecs.open(FILENAME, 'r', encoding='utf-8')\n",
    "out_f = codecs.open(OUTPUT_FILENAME, 'w', buffering=True, encoding='utf-8')\n",
    "for lines in split_every(20_000, tqdm(f, total=total_lines, desc=\"Splitting\", mininterval=2)):\n",
    "    block = [line.strip().split('\\t', 1) for line in lines]\n",
    "    chunks = splitter.split([b[1] for b in block])\n",
    "    for i, item in enumerate(chunks):\n",
    "        sentences = [sentence for sentence in item if len(sentence.text) > 100]\n",
    "        for sentence in sentences:\n",
    "            out_f.write(block[i][0])\n",
    "            out_f.write('\\t')\n",
    "            out_f.write(sentence.text)\n",
    "            for entity in sentence.entities:\n",
    "                if entity.type not in allowed_labels:\n",
    "                    continue\n",
    "                out_f.write('\\t')\n",
    "                out_f.write(entity.type)\n",
    "                out_f.write('-')\n",
    "                out_f.write(entity.text)\n",
    "            out_f.write('\\n')\n",
    "out_f.flush()\n",
    "out_f.close()\n",
    "f.close()"
   ],
   "metadata": {
    "collapsed": false,
    "ExecuteTime": {
     "end_time": "2023-11-23T14:43:16.987899790Z",
     "start_time": "2023-11-23T14:07:48.657346482Z"
    }
   },
   "id": "622bd8f262ca75d6"
  },
  {
   "cell_type": "code",
   "execution_count": null,
   "outputs": [],
   "source": [],
   "metadata": {
    "collapsed": false
   },
   "id": "9b1c3be93a054f24"
  }
 ],
 "metadata": {
  "kernelspec": {
   "display_name": "Python 3",
   "language": "python",
   "name": "python3"
  },
  "language_info": {
   "codemirror_mode": {
    "name": "ipython",
    "version": 2
   },
   "file_extension": ".py",
   "mimetype": "text/x-python",
   "name": "python",
   "nbconvert_exporter": "python",
   "pygments_lexer": "ipython2",
   "version": "2.7.6"
  }
 },
 "nbformat": 4,
 "nbformat_minor": 5
}
