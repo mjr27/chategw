{
 "cells": [
  {
   "cell_type": "code",
   "execution_count": 1,
   "id": "d82a6118-bc87-46b1-a539-4109b4d6f3da",
   "metadata": {
    "ExecuteTime": {
     "end_time": "2023-11-24T15:35:38.347581567Z",
     "start_time": "2023-11-24T15:35:37.200865010Z"
    }
   },
   "outputs": [],
   "source": [
    "import spacy\n",
    "spacy.prefer_gpu()\n",
    "MODELS = [\n",
    "    # \"en_core_web_lg\",\n",
    "    \"../data/v4-model.cpu/model-best\",\n",
    "    \"../data/v4-model.gpu/model-best\",\n",
    "]\n",
    "    "
   ]
  },
  {
   "cell_type": "code",
   "execution_count": 2,
   "id": "d8db474341887be9",
   "metadata": {
    "collapsed": false,
    "ExecuteTime": {
     "end_time": "2023-11-24T15:35:42.095220026Z",
     "start_time": "2023-11-24T15:35:39.060746820Z"
    }
   },
   "outputs": [],
   "source": [
    "nlps = [spacy.load(m) for m in MODELS]"
   ]
  },
  {
   "cell_type": "code",
   "execution_count": 4,
   "id": "1bab1e5d22d38b99",
   "metadata": {
    "collapsed": false,
    "ExecuteTime": {
     "end_time": "2023-11-24T15:36:47.323113398Z",
     "start_time": "2023-11-24T15:36:47.272637558Z"
    }
   },
   "outputs": [
    {
     "name": "stdout",
     "output_type": "stream",
     "text": [
      "Abaddon belongs to the realm of the mysterious. Only God understands it (Job 26:6; Pr 15:11). It is the world of the dead in its utterly dismal, destructive, dreadful aspect, not in those more cheerful aspects in which activities are conceived of as in progress there. In Abaddon there are no declarations of God's lovingkindness (Ps 88:11\n",
      "=== NLP# ../data/v4-model.cpu/model-best\n",
      "abaddon GPE\n",
      "job 26:6 REFERENCE\n",
      "pr 15:11 REFERENCE\n",
      "abaddon GPE\n",
      "ps 88:11 REFERENCE\n",
      "=== NLP# ../data/v4-model.gpu/model-best\n",
      "abaddon GPE\n",
      "abaddon GPE\n",
      "god PERSON\n",
      "88:11 REFERENCE\n",
      "**********\n",
      "old commandment which they had from the beginning of the Christian teaching (1 Jo 2:7; 2 Jn 1:5); but it was also a new commandment which\n",
      "=== NLP# ../data/v4-model.cpu/model-best\n",
      "1 jo 2:7 REFERENCE\n",
      "2 jn 1:5 REFERENCE\n",
      "=== NLP# ../data/v4-model.gpu/model-best\n",
      "1 jo 2:7 REFERENCE\n",
      "2 jn 1:5 REFERENCE\n",
      "**********\n",
      "from the darkness of hatred to the light of love (1 Jo 2:8-11\n",
      "=== NLP# ../data/v4-model.cpu/model-best\n",
      "1 jo 2:8-11 REFERENCE\n",
      "=== NLP# ../data/v4-model.gpu/model-best\n",
      "1 jo 2:8-11 REFERENCE\n",
      "**********\n",
      "what is the difference of view on Christs legacy in aa 127.3 and ah 15.2 and apm 125.0\n",
      "=== NLP# ../data/v4-model.cpu/model-best\n",
      "aa 127.3 REFERENCE\n",
      "ah 15.2 REFERENCE\n",
      "apm 125.0 REFERENCE\n",
      "=== NLP# ../data/v4-model.gpu/model-best\n",
      "aa 127.3 REFERENCE\n",
      "ah 15.2 REFERENCE\n",
      "apm 125.0 REFERENCE\n",
      "**********\n"
     ]
    }
   ],
   "source": [
    "queries = [\n",
    "    \"Abaddon belongs to the realm of the mysterious. Only God understands it (Job 26:6; Pr 15:11). It is the world of the dead in its utterly dismal, destructive, dreadful aspect, not in those more cheerful aspects in which activities are conceived of as in progress there. In Abaddon there are no declarations of God's lovingkindness (Ps 88:11\",\n",
    "    \"old commandment which they had from the beginning of the Christian teaching (1 Jo 2:7; 2 Jn 1:5); but it was also a new commandment which\",\n",
    "    \"from the darkness of hatred to the light of love (1 Jo 2:8-11\",\n",
    "    \"what is the difference of view on Christs legacy in aa 127.3 and ah 15.2 and apm 125.0\",\n",
    "]\n",
    "\n",
    "for query in queries:\n",
    "    print(query)\n",
    "    for nlp in nlps:\n",
    "        print (\"=== NLP#\", nlp.path)\n",
    "        doc = nlp(query.lower())\n",
    "        for ent in doc.ents:\n",
    "            print(ent, ent.label_)\n",
    "    print(\"*\" * 10)    \n"
   ]
  },
  {
   "cell_type": "code",
   "execution_count": null,
   "outputs": [],
   "source": [],
   "metadata": {
    "collapsed": false
   },
   "id": "d2d588590d092d2"
  }
 ],
 "metadata": {
  "kernelspec": {
   "display_name": "Python 3 (ipykernel)",
   "language": "python",
   "name": "python3"
  },
  "language_info": {
   "codemirror_mode": {
    "name": "ipython",
    "version": 3
   },
   "file_extension": ".py",
   "mimetype": "text/x-python",
   "name": "python",
   "nbconvert_exporter": "python",
   "pygments_lexer": "ipython3",
   "version": "3.11.6"
  },
  "widgets": {
   "application/vnd.jupyter.widget-state+json": {
    "state": {},
    "version_major": 2,
    "version_minor": 0
   }
  }
 },
 "nbformat": 4,
 "nbformat_minor": 5
}
