{
 "cells": [
  {
   "cell_type": "markdown",
   "id": "8768e95f26dffa62",
   "metadata": {
    "collapsed": false
   },
   "source": [
    "# NER Training\n",
    "## Train CPU-based ner (on spacy lg model)\n"
   ]
  },
  {
   "cell_type": "code",
   "execution_count": 1,
   "id": "3f0c3944ca71d8b",
   "metadata": {
    "collapsed": false,
    "ExecuteTime": {
     "end_time": "2023-11-23T11:35:32.295301198Z",
     "start_time": "2023-11-23T11:35:31.208537256Z"
    }
   },
   "outputs": [],
   "source": [
    "from spacy.cli.train import train\n",
    "import os.path\n",
    "BASE_DIR = \"../data/v4\"\n",
    "use_gpu = -1\n"
   ]
  },
  {
   "cell_type": "code",
   "execution_count": null,
   "id": "bf759bde5d783aba",
   "metadata": {
    "collapsed": false,
    "is_executing": true,
    "ExecuteTime": {
     "start_time": "2023-11-23T11:35:37.198279770Z"
    }
   },
   "outputs": [
    {
     "name": "stdout",
     "output_type": "stream",
     "text": [
      "\u001B[38;5;4mℹ Saving to output directory: ../data/v4-model.cpu\u001B[0m\n",
      "\u001B[38;5;4mℹ Using CPU\u001B[0m\n",
      "\u001B[38;5;4mℹ To switch to GPU 0, use the option: --gpu-id 0\u001B[0m\n",
      "\u001B[1m\n",
      "=========================== Initializing pipeline ===========================\u001B[0m\n",
      "\u001B[38;5;2m✔ Initialized pipeline\u001B[0m\n",
      "\u001B[1m\n",
      "============================= Training pipeline =============================\u001B[0m\n",
      "\u001B[38;5;4mℹ Pipeline: ['tok2vec', 'parser', 'ner']\u001B[0m\n",
      "\u001B[38;5;4mℹ Initial learn rate: 0.001\u001B[0m\n",
      "E    #       LOSS TOK2VEC  LOSS PARSER  LOSS NER  DEP_UAS  DEP_LAS  SENTS_F  ENTS_F  ENTS_P  ENTS_R  SCORE \n",
      "---  ------  ------------  -----------  --------  -------  -------  -------  ------  ------  ------  ------\n",
      "  0       0          0.00       390.46    107.59    15.63     4.37     0.78    0.06    0.04    0.10    0.05\n",
      "  0     200       1305.57     26348.07   3126.06    73.19    63.73    46.09   41.69   54.72   33.67    0.55\n",
      "  0     400       1595.66     17688.61   1404.15    75.96    70.20    62.17   50.68   59.68   44.04    0.62\n",
      "  0     600       1944.54     18330.16   1279.19    79.78    74.35    58.59   58.39   77.43   46.87    0.68\n",
      "  0     800       2065.79     16812.32   1272.16    81.18    76.51    63.49   60.42   61.79   59.11    0.70\n",
      "  0    1000       2276.99     16624.14   1213.70    82.51    77.82    63.72   62.88   77.35   52.97    0.72\n",
      "  0    1200       2792.94     17573.58   1346.61    82.98    78.78    76.18   65.53   77.22   56.92    0.73\n",
      "  0    1400       3371.31     19312.23   1633.79    84.36    80.56    82.70   65.89   74.22   59.24    0.74\n",
      "  0    1600       3542.20     18121.15   1372.72    85.57    81.79    78.46   71.67   73.15   70.26    0.78\n",
      "  0    1800       4701.89     22458.50   1961.80    86.87    83.32    83.77   69.65   75.34   64.75    0.77\n",
      "  0    2000       5860.71     25567.64   1882.68    87.36    84.12    87.13   73.19   82.97   65.47    0.79\n",
      "  0    2200       6270.79     27990.70   2277.15    88.29    85.18    87.12   76.55   76.28   76.82    0.82\n",
      "  0    2400       7895.13     33030.29   2519.26    88.42    85.53    86.66   74.75   78.82   71.08    0.81\n",
      "  0    2600      10636.07     38529.84   3036.62    89.05    86.24    87.49   77.52   78.96   76.12    0.83\n",
      "  0    2800      11258.17     44305.85   3361.54    89.66    86.98    88.85   78.53   81.43   75.83    0.83\n"
     ]
    }
   ],
   "source": [
    "root = BASE_DIR.rstrip('/')\n",
    "train(\"../configs/cpu_config.cfg\", root + \"-model.cpu\", overrides={\"paths.train\": os.path.join(root, \"train.spacy\"), \"paths.dev\": os.path.join(root, \"dev.spacy\")}, use_gpu=use_gpu)\n"
   ]
  },
  {
   "cell_type": "code",
   "execution_count": null,
   "id": "841d7d05f43793c2",
   "metadata": {
    "collapsed": false
   },
   "outputs": [],
   "source": []
  }
 ],
 "metadata": {
  "kernelspec": {
   "display_name": "Python 3 (ipykernel)",
   "language": "python",
   "name": "python3"
  },
  "language_info": {
   "codemirror_mode": {
    "name": "ipython",
    "version": 3
   },
   "file_extension": ".py",
   "mimetype": "text/x-python",
   "name": "python",
   "nbconvert_exporter": "python",
   "pygments_lexer": "ipython3",
   "version": "3.11.6"
  },
  "widgets": {
   "application/vnd.jupyter.widget-state+json": {
    "state": {},
    "version_major": 2,
    "version_minor": 0
   }
  }
 },
 "nbformat": 4,
 "nbformat_minor": 5
}
