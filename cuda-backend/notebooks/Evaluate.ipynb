{
 "cells": [
  {
   "cell_type": "code",
   "execution_count": 1,
   "id": "initial_id",
   "metadata": {
    "collapsed": true,
    "ExecuteTime": {
     "end_time": "2023-11-24T13:14:08.248753866Z",
     "start_time": "2023-11-24T13:14:07.380523459Z"
    }
   },
   "outputs": [],
   "source": [
    "from pprint import pp\n",
    "\n",
    "import spacy\n",
    "from spacy.training import Corpus\n",
    "from spacy.util import load_model"
   ]
  },
  {
   "cell_type": "code",
   "execution_count": 2,
   "outputs": [],
   "source": [
    "MODELS = [\n",
    "    # \"en_core_web_sm\",\n",
    "    # \"en_core_web_lg\",\n",
    "    # \"../data/v3-model.cpu/model-best\",\n",
    "    # \"../data/v3-model.gpu/model-best\",\n",
    "    # \"../data/v3-model.gpu.v1/model-best\",\n",
    "    \"../data/v4-model.cpu/model-best\",\n",
    "    \"../data/v4-model.gpu/model-best\",\n",
    "]\n",
    "SPACY_DATA = \"../data/v4/dev.spacy\""
   ],
   "metadata": {
    "collapsed": false,
    "ExecuteTime": {
     "end_time": "2023-11-24T13:14:08.797069433Z",
     "start_time": "2023-11-24T13:14:08.792381892Z"
    }
   },
   "id": "5427d81c8bcb01dc"
  },
  {
   "cell_type": "code",
   "execution_count": 3,
   "outputs": [
    {
     "name": "stdout",
     "output_type": "stream",
     "text": [
      "../data/v4-model.cpu/model-best ...\n",
      "{'DATE': {'p': 0.8421868501644675,\n",
      "          'r': 0.7761864938323229,\n",
      "          'f': 0.8078408616969192},\n",
      " 'PERSON': {'p': 0.8107977705681724,\n",
      "            'r': 0.7883557654976058,\n",
      "            'f': 0.7994192961015739},\n",
      " 'REFERENCE': {'p': 0.9123295752490823,\n",
      "               'r': 0.884397471062302,\n",
      "               'f': 0.8981464054677544},\n",
      " 'GPE': {'p': 0.9024599389034782,\n",
      "         'r': 0.7165836844121026,\n",
      "         'f': 0.7988519379477204},\n",
      " 'LOC': {'p': 0.6980292434837889,\n",
      "         'r': 0.6931818181818182,\n",
      "         'f': 0.6955970858409883}}\n",
      "../data/v4-model.gpu/model-best ...\n",
      "{'DATE': {'p': 0.8476698275571154,\n",
      "          'r': 0.8752874764791971,\n",
      "          'f': 0.8612573074351545},\n",
      " 'PERSON': {'p': 0.8522736761243133,\n",
      "            'r': 0.8255953151287693,\n",
      "            'f': 0.8387224007165338},\n",
      " 'REFERENCE': {'p': 0.9371367374736164,\n",
      "               'r': 0.9545045378969998,\n",
      "               'f': 0.9457409078508321},\n",
      " 'GPE': {'p': 0.8563425543926695,\n",
      "         'r': 0.839142091152815,\n",
      "         'f': 0.8476550745819542},\n",
      " 'LOC': {'p': 0.7713248638838476,\n",
      "         'r': 0.8049242424242424,\n",
      "         'f': 0.7877664504170528}}\n"
     ]
    }
   ],
   "source": [
    "spacy.require_cpu()\n",
    "corpus = Corpus(SPACY_DATA)\n",
    "for model in MODELS:\n",
    "    print(model, \"...\")\n",
    "    nlp = load_model(model)\n",
    "    dev_dataset = list(corpus(nlp))\n",
    "    scores = nlp.evaluate(dev_dataset)\n",
    "    pp(scores['ents_per_type'])\n",
    "    "
   ],
   "metadata": {
    "collapsed": false,
    "ExecuteTime": {
     "end_time": "2023-11-24T14:10:08.664979695Z",
     "start_time": "2023-11-24T13:14:09.793354033Z"
    }
   },
   "id": "7e4a7319ac7de773"
  },
  {
   "cell_type": "code",
   "execution_count": null,
   "outputs": [],
   "source": [],
   "metadata": {
    "collapsed": false
   },
   "id": "d8efaa493e741e22"
  }
 ],
 "metadata": {
  "kernelspec": {
   "display_name": "Python 3",
   "language": "python",
   "name": "python3"
  },
  "language_info": {
   "codemirror_mode": {
    "name": "ipython",
    "version": 2
   },
   "file_extension": ".py",
   "mimetype": "text/x-python",
   "name": "python",
   "nbconvert_exporter": "python",
   "pygments_lexer": "ipython2",
   "version": "2.7.6"
  }
 },
 "nbformat": 4,
 "nbformat_minor": 5
}
