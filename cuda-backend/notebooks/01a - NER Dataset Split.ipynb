{
 "cells": [
  {
   "cell_type": "code",
   "execution_count": null,
   "id": "initial_id",
   "metadata": {
    "collapsed": true
   },
   "outputs": [],
   "source": [
    "OUTPUT_FOLDER = \"../data/v4\""
   ]
  },
  {
   "cell_type": "code",
   "execution_count": 1,
   "outputs": [],
   "source": [
    "import spacy\n",
    "import typing\n",
    "from spacy.tokens import DocBin\n",
    "import os\n",
    "\n",
    "from sklearn.model_selection import train_test_split\n",
    "nlp_blank = spacy.blank(\"en\")"
   ],
   "metadata": {
    "collapsed": false,
    "ExecuteTime": {
     "end_time": "2023-12-07T11:55:02.556235479Z",
     "start_time": "2023-12-07T11:55:01.405639473Z"
    }
   },
   "id": "534835ca113324b6"
  },
  {
   "cell_type": "code",
   "execution_count": null,
   "outputs": [],
   "source": [
    "\n",
    "\n",
    "\n",
    "def split(bin: DocBin) -> typing.Tuple[DocBin, DocBin, DocBin]:\n",
    "    docs = list(bin.get_docs(nlp_blank.vocab))\n",
    "    train_set, validation_set = train_test_split(docs, test_size=0.25)\n",
    "    validation_set, test_set = train_test_split(validation_set, test_size=0.3)\n",
    "    return DocBin(docs=train_set), DocBin(docs=validation_set), DocBin(docs=test_set)\n",
    "\n",
    "\n",
    "def force_mkd(path):\n",
    "    os.makedirs(path, mode=0o755, exist_ok=True)\n",
    "\n",
    "\n",
    "dir_validation = os.path.join(OUTPUT_FOLDER, \"dev\")\n",
    "dir_test = os.path.join(OUTPUT_FOLDER, \"test\")\n",
    "dir_data = os.path.join(OUTPUT_FOLDER, \"train\")\n",
    "\n",
    "force_mkd(dir_validation)\n",
    "force_mkd(dir_test)\n",
    "force_mkd(dir_data)\n",
    "\n",
    "for fn in os.listdir(OUTPUT_FOLDER):\n",
    "    print(fn)\n",
    "    if os.path.isdir(fn):\n",
    "        continue\n",
    "    bin = DocBin().from_disk(os.path.join(OUTPUT_FOLDER, fn))\n",
    "    train_bin, validation_bin, test_bin = split(bin)\n",
    "    train_bin.to_disk(os.path.join(dir_data, fn))\n",
    "    validation_bin.to_disk(os.path.join(dir_validation, fn))\n",
    "    test_bin.to_disk(os.path.join(dir_test, fn))"
   ],
   "metadata": {
    "collapsed": false
   },
   "id": "85263196f2d0584d"
  }
 ],
 "metadata": {
  "kernelspec": {
   "display_name": "Python 3",
   "language": "python",
   "name": "python3"
  },
  "language_info": {
   "codemirror_mode": {
    "name": "ipython",
    "version": 2
   },
   "file_extension": ".py",
   "mimetype": "text/x-python",
   "name": "python",
   "nbconvert_exporter": "python",
   "pygments_lexer": "ipython2",
   "version": "2.7.6"
  }
 },
 "nbformat": 4,
 "nbformat_minor": 5
}
