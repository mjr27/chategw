{
 "cells": [
  {
   "cell_type": "code",
   "execution_count": 4,
   "id": "initial_id",
   "metadata": {
    "collapsed": true,
    "ExecuteTime": {
     "end_time": "2023-11-23T14:49:26.193900779Z",
     "start_time": "2023-11-23T14:49:26.193227288Z"
    }
   },
   "outputs": [],
   "source": [
    "import codecs\n",
    "import typing\n",
    "from itertools import islice\n",
    "\n",
    "import spacy\n",
    "import os\n",
    "os.environ[\"TOKENIZERS_PARALLELISM\"] = \"true\"\n",
    "from tqdm import tqdm\n",
    "\n",
    "FILENAME = \"../split.tsv\"\n",
    "OUTPUT_FILENAME = \"../embeddings.tsv\"\n",
    "# SPACY_MODEL = \"../data/v3-model.cpu/model-best\"\n"
   ]
  },
  {
   "cell_type": "code",
   "execution_count": 5,
   "outputs": [],
   "source": [
    "\n",
    "def line_count(filename):\n",
    "    with open(filename, \"r\", encoding=\"utf-8\") as f:\n",
    "        return len(f.readlines())\n",
    "    \n",
    "\n",
    "class Paragraph:\n",
    "    __slots__ = ['id', 'content', 'embedding', 'entities']\n",
    "\n",
    "    def __init__(self, id: str, content: str, entities: str | None):\n",
    "        self.id = id\n",
    "        self.content = content\n",
    "        self.entities = entities\n",
    "\n",
    "\n",
    "def iterate_passages(lines: typing.Iterable[str]) -> typing.Iterable[Paragraph]:\n",
    "    for line in lines:\n",
    "        a = line.strip().split('\\t', 2)\n",
    "        yield Paragraph(a[0], a[1], a[2] if len(a) > 2 else None)\n",
    "\n",
    "\n",
    "def split_every(n, iterable):\n",
    "    i = iter(iterable)\n",
    "    piece = list(islice(i, n))\n",
    "    while piece:\n",
    "        yield piece\n",
    "        piece = list(islice(i, n))\n",
    "\n",
    "\n",
    "def calculate_passages(n: int, client, lines: typing.Iterable[str]) -> typing.Iterable[Paragraph]:\n",
    "    for group in split_every(n, iterate_passages(lines)):\n",
    "        content = [passage.content for passage in group]\n",
    "        embeddings = client.encode_embeddings(content)\n",
    "        for passage, embedding in zip(group, embeddings):\n",
    "            passage.embedding = embedding\n",
    "            yield passage\n",
    "    "
   ],
   "metadata": {
    "collapsed": false,
    "ExecuteTime": {
     "end_time": "2023-11-23T14:49:27.797058700Z",
     "start_time": "2023-11-23T14:49:27.795810256Z"
    }
   },
   "id": "db3161884b89f3c"
  },
  {
   "cell_type": "code",
   "execution_count": 6,
   "outputs": [
    {
     "name": "stderr",
     "output_type": "stream",
     "text": [
      "<frozen codecs>:918: RuntimeWarning: line buffering (buffering=1) isn't supported in binary mode, the default buffer size will be used\n",
      "Embedding: 100%|██████████| 1920774/1920774 [21:12<00:00, 1509.43it/s]\n"
     ]
    }
   ],
   "source": [
    "import base64\n",
    "from chategw import AiClient\n",
    "\n",
    "total_count = line_count(FILENAME)\n",
    "client = AiClient(1024)\n",
    "\n",
    "f = codecs.open(FILENAME, 'r', encoding='utf-8')\n",
    "out_f = codecs.open(OUTPUT_FILENAME, 'w', buffering=True, encoding='utf-8')\n",
    "\n",
    "for passage in calculate_passages(10_000, client, tqdm(f, total=total_count, desc=\"Embedding\", mininterval=2)):\n",
    "    b = passage.embedding.tobytes()\n",
    "    bytes_embedding = base64.b64encode(b).decode('utf-8')\n",
    "    out_f.write(passage.id)\n",
    "    out_f.write('\\t')\n",
    "    out_f.write(passage.content)\n",
    "    out_f.write('\\t')\n",
    "    out_f.write(bytes_embedding)\n",
    "    if passage.entities:\n",
    "        out_f.write('\\t')\n",
    "        out_f.write(passage.entities)\n",
    "    out_f.write('\\n')\n",
    "\n",
    "f.close()\n",
    "out_f.close()"
   ],
   "metadata": {
    "collapsed": false,
    "ExecuteTime": {
     "end_time": "2023-11-23T15:10:51.220557801Z",
     "start_time": "2023-11-23T14:49:34.401961489Z"
    }
   },
   "id": "8c0d1031bf7d9640"
  },
  {
   "cell_type": "code",
   "execution_count": null,
   "outputs": [],
   "source": [],
   "metadata": {
    "collapsed": false
   },
   "id": "4e1845bc3d6ce294"
  }
 ],
 "metadata": {
  "kernelspec": {
   "display_name": "Python 3",
   "language": "python",
   "name": "python3"
  },
  "language_info": {
   "codemirror_mode": {
    "name": "ipython",
    "version": 2
   },
   "file_extension": ".py",
   "mimetype": "text/x-python",
   "name": "python",
   "nbconvert_exporter": "python",
   "pygments_lexer": "ipython2",
   "version": "2.7.6"
  }
 },
 "nbformat": 4,
 "nbformat_minor": 5
}
