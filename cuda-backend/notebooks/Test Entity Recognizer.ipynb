{
 "cells": [
  {
   "cell_type": "code",
   "execution_count": 1,
   "outputs": [
    {
     "data": {
      "text/plain": "<spacy.lang.en.English at 0x7ff0e35dcf90>"
     },
     "execution_count": 1,
     "metadata": {},
     "output_type": "execute_result"
    }
   ],
   "source": [
    "import spacy\n",
    "\n",
    "nlp_base = spacy.load(\"en_core_web_sm\")\n",
    "nlp_base"
   ],
   "metadata": {
    "collapsed": false,
    "ExecuteTime": {
     "end_time": "2023-12-05T14:42:59.416029074Z",
     "start_time": "2023-12-05T14:42:58.180454014Z"
    }
   },
   "id": "initial_id"
  },
  {
   "cell_type": "code",
   "execution_count": 37,
   "id": "6ba2e425b67fdd17",
   "metadata": {
    "collapsed": false,
    "ExecuteTime": {
     "end_time": "2023-12-06T09:09:06.473510626Z",
     "start_time": "2023-12-06T09:09:06.432272903Z"
    }
   },
   "outputs": [],
   "source": [
    "# Read examples.tsv from parent folder in array\n",
    "import csv\n",
    "\n",
    "examples = []\n",
    "with open(\"../examples.tsv\", \"r\") as f:\n",
    "    reader = csv.reader(f)\n",
    "    for a in reader:\n",
    "        text = a[0]\n",
    "        result = a[1] if len(a) > 1 else '-'\n",
    "        expected = None\n",
    "        if result == \"+\":\n",
    "            expected = text\n",
    "        elif result == '-':\n",
    "            expected = ''\n",
    "        else:\n",
    "            expected = result\n",
    "        examples.append(dict(text=text, expected=expected))\n"
   ]
  },
  {
   "cell_type": "code",
   "execution_count": 38,
   "id": "e4400c6044497154",
   "metadata": {
    "collapsed": false,
    "ExecuteTime": {
     "end_time": "2023-12-06T09:09:07.134749861Z",
     "start_time": "2023-12-06T09:09:07.133212727Z"
    }
   },
   "outputs": [],
   "source": [
    "\n",
    "from spacy.matcher import Matcher\n",
    "\n",
    "matcher = Matcher(nlp_base.vocab)\n",
    "lt_ms_patterns = [\n",
    "    [\n",
    "        {\"LOWER\": {\"IN\": [\"lt\", \"ms\", \"letter\", \"manuscript\"]}},\n",
    "        {\"LOWER\": {\"REGEX\": \"^[0-9]{1,3}[a-z]?$\"}, \"OP\": \"?\"},\n",
    "        {\"IS_PUNCT\": True, \"OP\": \"?\"},\n",
    "        {\"IS_DIGIT\": True, \"LENGTH\": {\">=\": 3, \"<=\": 5}}\n",
    "    ],\n",
    "    [\n",
    "        {\"LOWER\": {\"REGEX\": \"^(lt|ms|letter|manuscript)[0-9]+[a-z]?$\"}},\n",
    "        {\"IS_PUNCT\": True, \"OP\": \"?\"},\n",
    "        {\"IS_DIGIT\": True, \"LENGTH\": {\"==\": 4}}\n",
    "    ]\n",
    "]\n",
    "matcher.add(\"lt_ms\", lt_ms_patterns)\n",
    "\n"
   ]
  },
  {
   "cell_type": "code",
   "execution_count": 39,
   "id": "243a4c49b0bf17dc",
   "metadata": {
    "collapsed": false,
    "ExecuteTime": {
     "end_time": "2023-12-06T09:09:07.825750574Z",
     "start_time": "2023-12-06T09:09:07.783408844Z"
    }
   },
   "outputs": [
    {
     "data": {
      "text/plain": "[{'text': 'lt 12, 1973', 'matches': [('lt_ms', 'lt 12, 1973')]},\n {'text': 'lt 12 1973', 'matches': [('lt_ms', 'lt 12 1973')]},\n {'text': 'letter 12 1973', 'matches': [('lt_ms', 'letter 12 1973')]},\n {'text': 'lt 1973', 'matches': [('lt_ms', 'lt 1973')]},\n {'text': 'letter 15a 1973', 'matches': [('lt_ms', 'letter 15a 1973')]},\n {'text': 'lt15 1973', 'matches': [('lt_ms', 'lt15 1973')]},\n {'text': 'letter15a 1732', 'matches': [('lt_ms', 'letter15a 1732')]},\n {'text': 'ms 15, 9283', 'matches': [('lt_ms', 'ms 15, 9283')]},\n {'text': 'ms 15, 1234', 'matches': [('lt_ms', 'ms 15, 1234')]},\n {'text': 'ms15 1234', 'matches': [('lt_ms', 'ms15 1234')]},\n {'text': 'manuscript 32a 1973',\n  'matches': [('lt_ms', 'manuscript 32a 1973')]},\n {'text': 'manuscript32b 1973', 'matches': [('lt_ms', 'manuscript32b 1973')]},\n {'text': 'manuscript32 1973', 'matches': [('lt_ms', 'manuscript32 1973')]}]"
     },
     "execution_count": 39,
     "metadata": {},
     "output_type": "execute_result"
    }
   ],
   "source": [
    "\n",
    "\n",
    "def print_error(message, row, doc, matches):\n",
    "    print(\"ERROR: \", message)\n",
    "    print(\"Error in \" + row['text'])\n",
    "    print(\"Expected: \" + row['expected'])\n",
    "    for match_id, start, end in matches:\n",
    "        string_id = nlp_base.vocab.strings[match_id]  # Get string representation\n",
    "        span = doc[start:end]  # The matched span\n",
    "        print(match_id, string_id, start, end, span.text)\n",
    "    print(\"*\" * 80)\n",
    "\n",
    "\n",
    "results = []\n",
    "for row in examples:\n",
    "    doc = nlp_base(row['text'])\n",
    "    matches = matcher(doc)\n",
    "\n",
    "    if len(matches) == 0:\n",
    "        if row['expected'] != \"\":\n",
    "            print_error(\"Unexpected match\", row, doc, matches)\n",
    "        continue\n",
    "    if len(matches) > 1:\n",
    "        print_error(\"Unexpected number of matches\", row, doc, matches)\n",
    "        continue\n",
    "    match_id, start, end = matches[0]\n",
    "    string_id = nlp_base.vocab.strings[match_id]  # Get string representation\n",
    "    span = doc[start:end]  # The matched span\n",
    "    if span != row['expected']:\n",
    "        print_error(\"Unexpected match\", row, doc, matches)\n",
    "    results.append(dict(\n",
    "        text=row['text'],\n",
    "        matches=[(nlp_base.vocab.strings[match_id], doc[start:end].text) for match_id, start, end in matches]\n",
    "    ))\n",
    "results"
   ]
  },
  {
   "cell_type": "code",
   "execution_count": 57,
   "outputs": [
    {
     "name": "stdout",
     "output_type": "stream",
     "text": [
      "> what did Ellen White write in page 57 of Education about?\n",
      "BOOK {\n",
      "  \"book\": \"Ellen White\",\n",
      "  \"text\": \"Ellen White\"\n",
      "}\n",
      "BOOK {\n",
      "  \"book\": \"Education\",\n",
      "  \"page\": 57,\n",
      "  \"text\": \"page 57 of Education\"\n",
      "}\n",
      "--------------------------------------------------------------------------------\n"
     ]
    }
   ],
   "source": [
    "\n",
    "\n",
    "texts = [\n",
    "    # \"What do AA and AH say  about genesis in genesis?\",\n",
    "    # \"What does the acts of the apostles 15 say about genesis in genesis?\",\n",
    "    # \"What AA says about genesis?\",\n",
    "    # \"What was said in AA about genesis?\",\n",
    "    # \"What was written by ellen white about main theme in genesis?\",\n",
    "    # \"What does ellen white say in the acts of apostles 15?\",\n",
    "    # \"What is written in hebrews about faith?\",\n",
    "    # \"What did Ellen White write in chapter 1 of A Call to Medical Evangelism and Health Education ?\",\n",
    "    # \"In \\\"My Life Today\\\", how does Ellen White reflect on her own spiritual journey and experiences\",\n",
    "    # \"what did Ellen White write in Education 57 about?\",\n",
    "    # \"what did Ellen White write in Education page 57 about?\",\n",
    "    \"what did Ellen White write in page 57 of Education about?\",\n",
    "    # \"what is the best quote from education pages 57-82\",\n",
    "    # \"what is written in chapter 2 of aa\",\n",
    "    # \"how the book of matthew describes the birth of Jesus?\",\n",
    "    # \"what ellen white wrote about apostles in aa 548\",\n",
    "]\n",
    "\n",
    "import chategw.models.book_parsing \n",
    "import importlib\n",
    "importlib.reload(chategw.models.book_parsing)\n",
    "dep_matcher = chategw.models.book_parsing.EgwBookMatcher(\"../models/ner_model/model-best\", patterns=pattern_data)\n",
    "# nlp2 = spacy.load(\"../models/ner_model/model-best\")\n",
    "# docs = nlp2.pipe(texts)\n",
    "for s in texts:\n",
    "    print(\">\", s)\n",
    "    is_found = False\n",
    "    for code, match in dep_matcher(s):\n",
    "        print(code, match.model_dump_json(indent=2,exclude_none=True, exclude_unset=True))\n",
    "        # doc2 = nlp2(match) \n",
    "        # for ent in doc2.ents:\n",
    "        #     print(\"L:\", ent.text, ent.label_)\n",
    "        # is_found = True\n",
    "    # if not is_found:\n",
    "    #     displacy.render(doc, style=\"dep\")\n",
    "    print(\"-\" * 80)\n"
   ],
   "metadata": {
    "collapsed": false,
    "ExecuteTime": {
     "end_time": "2023-12-06T09:31:44.001270961Z",
     "start_time": "2023-12-06T09:31:42.802290690Z"
    }
   },
   "id": "7a869a07ed33924c"
  },
  {
   "cell_type": "code",
   "execution_count": 22,
   "id": "dfe093b9-1fda-4b36-94b6-b40bd9e70908",
   "metadata": {
    "ExecuteTime": {
     "end_time": "2023-12-05T15:24:53.185128694Z",
     "start_time": "2023-12-05T15:24:53.140838029Z"
    }
   },
   "outputs": [],
   "source": []
  },
  {
   "cell_type": "code",
   "execution_count": null,
   "outputs": [],
   "source": [],
   "metadata": {
    "collapsed": false
   },
   "id": "c28aad62dade12f9"
  }
 ],
 "metadata": {
  "kernelspec": {
   "display_name": "Python 3 (ipykernel)",
   "language": "python",
   "name": "python3"
  },
  "language_info": {
   "codemirror_mode": {
    "name": "ipython",
    "version": 3
   },
   "file_extension": ".py",
   "mimetype": "text/x-python",
   "name": "python",
   "nbconvert_exporter": "python",
   "pygments_lexer": "ipython3",
   "version": "3.11.6"
  },
  "widgets": {
   "application/vnd.jupyter.widget-state+json": {
    "state": {},
    "version_major": 2,
    "version_minor": 0
   }
  }
 },
 "nbformat": 4,
 "nbformat_minor": 5
}
