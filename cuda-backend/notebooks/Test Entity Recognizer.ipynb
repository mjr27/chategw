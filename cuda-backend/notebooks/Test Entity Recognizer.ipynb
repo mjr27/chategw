{
 "cells": [
  {
   "cell_type": "code",
   "execution_count": 12,
   "id": "initial_id",
   "metadata": {
    "collapsed": true,
    "ExecuteTime": {
     "end_time": "2023-11-30T14:59:10.008609095Z",
     "start_time": "2023-11-30T14:59:09.182212770Z"
    }
   },
   "outputs": [
    {
     "data": {
      "text/plain": "<spacy.lang.en.English at 0x7fabb3377050>"
     },
     "execution_count": 12,
     "metadata": {},
     "output_type": "execute_result"
    }
   ],
   "source": [
    "import spacy\n",
    "from spacy.matcher import Matcher\n",
    "\n",
    "nlp = spacy.load(\"en_core_web_lg\")\n",
    "nlp"
   ]
  },
  {
   "cell_type": "code",
   "execution_count": 13,
   "outputs": [],
   "source": [
    "# Read examples.tsv from parent folder in array\n",
    "import csv\n",
    "\n",
    "examples = []\n",
    "with open(\"../examples.tsv\", \"r\") as f:\n",
    "    reader = csv.reader(f)\n",
    "    for a in reader:\n",
    "        text = a[0]\n",
    "        result = a[1] if len(a) > 1 else '-'\n",
    "        expected = None\n",
    "        if result == \"+\":\n",
    "            expected = text\n",
    "        elif result == '-':\n",
    "            expected = ''\n",
    "        else:\n",
    "            expected = result\n",
    "        examples.append(dict(text=text, expected=expected))\n"
   ],
   "metadata": {
    "collapsed": false,
    "ExecuteTime": {
     "end_time": "2023-11-30T14:59:11.047176283Z",
     "start_time": "2023-11-30T14:59:11.041630248Z"
    }
   },
   "id": "6ba2e425b67fdd17"
  },
  {
   "cell_type": "code",
   "execution_count": 14,
   "outputs": [],
   "source": [
    "from spacy.matcher import PhraseMatcher\n",
    "\n",
    "matcher = Matcher(nlp.vocab)\n",
    "lt_ms_patterns = [\n",
    "    [\n",
    "        {\"LOWER\": {\"IN\": [\"lt\", \"ms\", \"letter\", \"manuscript\"]}},\n",
    "        {\"LOWER\": {\"REGEX\": \"^[0-9]{1,3}[a-z]?$\"}, \"OP\": \"?\"},\n",
    "        {\"IS_PUNCT\": True, \"OP\": \"?\"},\n",
    "        {\"IS_DIGIT\": True, \"LENGTH\": {\">=\": 3, \"<=\": 5}}\n",
    "    ],\n",
    "    [\n",
    "        {\"LOWER\": {\"REGEX\": \"^(lt|ms|letter|manuscript)[0-9]+[a-z]?$\"}},\n",
    "        {\"IS_PUNCT\": True, \"OP\": \"?\"},\n",
    "        {\"IS_DIGIT\": True, \"LENGTH\": {\"==\": 4}}\n",
    "    ]\n",
    "]\n",
    "matcher.add(\"lt_ms\", lt_ms_patterns)\n",
    "\n",
    "import json\n",
    "\n",
    "phrase_matcher = PhraseMatcher(nlp.vocab)\n",
    "with open(\"../models/en-bible-meta.json\", \"r\") as f:\n",
    "    bible_info = json.load(f)\n",
    "    for book in bible_info:\n",
    "        name = book['Name']\n",
    "        synonyms = [book['Name'], book['EnglishName']]\n",
    "        synonyms.extend(book['Synonym'])\n",
    "        synonyms = sorted(list(set(synonyms)), reverse=True, key=len)\n",
    "        phrase_matcher.add(name, [nlp(t) for t in set(synonyms)])\n",
    "        # for synonym in synonyms:\n",
    "        #     doc = nlp(synonym)\n",
    "        #     for sent in doc.sents:\n",
    "        #         print(synonym,  list(sent.subtree), list((s.lemma_, s.tag_) for s in  sent.subtree))\n",
    "        #     # matcher.add(synonym, [[{\"LOWER\": synonym.lower()}]])\n",
    "\n"
   ],
   "metadata": {
    "collapsed": false,
    "ExecuteTime": {
     "end_time": "2023-11-30T14:59:12.693235766Z",
     "start_time": "2023-11-30T14:59:11.396630555Z"
    }
   },
   "id": "e4400c6044497154"
  },
  {
   "cell_type": "code",
   "execution_count": 15,
   "outputs": [],
   "source": [
    "\n",
    "\n",
    "def print_error(message, row, doc, matches):\n",
    "    print(\"ERROR: \", message)\n",
    "    print(\"Error in \" + row['text'])\n",
    "    print(\"Expected: \" + row['expected'])\n",
    "    for match_id, start, end in matches:\n",
    "        string_id = nlp.vocab.strings[match_id]  # Get string representation\n",
    "        span = doc[start:end]  # The matched span\n",
    "        print(match_id, string_id, start, end, span.text)\n",
    "    print(\"*\" * 80)\n",
    "\n",
    "\n",
    "results = []\n",
    "for row in examples:\n",
    "    doc = nlp(row['text'])\n",
    "    matches = matcher(doc)\n",
    "\n",
    "    if len(matches) == 0:\n",
    "        if row['expected'] != \"\":\n",
    "            print_error(\"Unexpected match\", row, doc, matches)\n",
    "        continue\n",
    "    if len(matches) > 1:\n",
    "        print_error(\"Unexpected number of matches\", row, doc, matches)\n",
    "        continue\n",
    "    match_id, start, end = matches[0]\n",
    "    string_id = nlp.vocab.strings[match_id]  # Get string representation\n",
    "    span = doc[start:end]  # The matched span\n",
    "    if span != row['expected']:\n",
    "        print_error(\"Unexpected match\", row, doc, matches)\n",
    "    results.append(dict(\n",
    "        text=row['text'],\n",
    "        matches=[(nlp.vocab.strings[match_id], doc[start:end].text) for match_id, start, end in matches]\n",
    "    ))"
   ],
   "metadata": {
    "collapsed": false,
    "ExecuteTime": {
     "end_time": "2023-11-30T14:59:12.736463110Z",
     "start_time": "2023-11-30T14:59:12.695647037Z"
    }
   },
   "id": "243a4c49b0bf17dc"
  },
  {
   "cell_type": "code",
   "execution_count": 16,
   "outputs": [],
   "source": [
    "texts = [\n",
    "    \"What does the acts of the apostles 15 say about the role of God?\",\n",
    "    \"What does the acts of the apostles, 15 say about the role of God?\",\n",
    "    \"What does AA 15 say about the role of God?\",\n",
    "    \"What is the difference in explanation of genesis between GC and AA?\",\n",
    "]\n",
    "expected = [\n",
    "    [\"acts of the apostles 15\"],\n",
    "    [\"AA 15\"],\n",
    "    [\"GC\", \"AA\"],\n",
    "]\n"
   ],
   "metadata": {
    "collapsed": false,
    "ExecuteTime": {
     "end_time": "2023-11-30T14:59:12.736586488Z",
     "start_time": "2023-11-30T14:59:12.736421370Z"
    }
   },
   "id": "c337d5d754e5e9d4"
  },
  {
   "cell_type": "code",
   "execution_count": 17,
   "outputs": [],
   "source": [
    "docs = [nlp(text) for text in texts]"
   ],
   "metadata": {
    "collapsed": false,
    "ExecuteTime": {
     "end_time": "2023-11-30T14:59:13.020444714Z",
     "start_time": "2023-11-30T14:59:13.001769953Z"
    }
   },
   "id": "5b537b26274e2bb8"
  },
  {
   "cell_type": "code",
   "execution_count": 18,
   "outputs": [
    {
     "name": "stdout",
     "output_type": "stream",
     "text": [
      ">>> What does the acts of the apostles 15 say about the role of God?\n",
      "b> the acts\n",
      "b> acts\n",
      "what WP PRON\n",
      "do VBZ AUX\n",
      "the DT DET\n",
      "act NNS NOUN\n",
      "of IN ADP\n",
      "the DT DET\n",
      "apostle NNS NOUN\n",
      "15 CD NUM\n",
      "say VBP VERB\n",
      "about IN ADP\n",
      "the DT DET\n",
      "role NN NOUN\n",
      "of IN ADP\n",
      "God NNP PROPN\n",
      "? . PUNCT\n",
      ">>> What does the acts of the apostles, 15 say about the role of God?\n",
      "b> the acts\n",
      "b> acts\n",
      "what WP PRON\n",
      "do VBZ AUX\n",
      "the DT DET\n",
      "act NNS NOUN\n",
      "of IN ADP\n",
      "the DT DET\n",
      "apostle NNS NOUN\n",
      ", , PUNCT\n",
      "15 CD NUM\n",
      "say VBP VERB\n",
      "about IN ADP\n",
      "the DT DET\n",
      "role NN NOUN\n",
      "of IN ADP\n",
      "God NNP PROPN\n",
      "? . PUNCT\n",
      ">>> What does AA 15 say about the role of God?\n",
      "what WP PRON\n",
      "do VBZ AUX\n",
      "AA NNP PROPN\n",
      "15 CD NUM\n",
      "say VB VERB\n",
      "about IN ADP\n",
      "the DT DET\n",
      "role NN NOUN\n",
      "of IN ADP\n",
      "God NNP PROPN\n",
      "? . PUNCT\n",
      ">>> What is the difference in explanation of genesis between GC and AA?\n",
      "b> is\n",
      "b> genesis\n",
      "what WP PRON\n",
      "be VBZ AUX\n",
      "the DT DET\n",
      "difference NN NOUN\n",
      "in IN ADP\n",
      "explanation NN NOUN\n",
      "of IN ADP\n",
      "genesis NN NOUN\n",
      "between IN ADP\n",
      "GC NNP PROPN\n",
      "and CC CCONJ\n",
      "AA NNP PROPN\n",
      "? . PUNCT\n"
     ]
    }
   ],
   "source": [
    "for doc in docs:\n",
    "    print(\">>>\", doc)\n",
    "    for match_id, start, end in matcher(doc):\n",
    "        print(\"l>\", doc[start:end])\n",
    "    for match_id, start, end in phrase_matcher(doc):\n",
    "        print(\"b>\", doc[start:end])\n",
    "    for t in doc:\n",
    "        print(t.lemma_, t.tag_, t.pos_)\n",
    "\n"
   ],
   "metadata": {
    "collapsed": false,
    "ExecuteTime": {
     "end_time": "2023-11-30T14:59:13.736187321Z",
     "start_time": "2023-11-30T14:59:13.734021281Z"
    }
   },
   "id": "3bad44632f5af077"
  },
  {
   "cell_type": "code",
   "execution_count": 41,
   "outputs": [
    {
     "data": {
      "text/plain": "<IPython.core.display.HTML object>",
      "text/html": "<span class=\"tex2jax_ignore\"><svg xmlns=\"http://www.w3.org/2000/svg\" xmlns:xlink=\"http://www.w3.org/1999/xlink\" xml:lang=\"en\" id=\"baa31aa803a54d4295a80e9f31844456-0\" class=\"displacy\" width=\"1550\" height=\"512.0\" direction=\"ltr\" style=\"max-width: none; height: 512.0px; color: #000000; background: #ffffff; font-family: Arial; direction: ltr\">\n<text class=\"displacy-token\" fill=\"currentColor\" text-anchor=\"middle\" y=\"422.0\">\n    <tspan class=\"displacy-word\" fill=\"currentColor\" x=\"50\">What</tspan>\n    <tspan class=\"displacy-tag\" dy=\"2em\" fill=\"currentColor\" x=\"50\">WP</tspan>\n</text>\n\n<text class=\"displacy-token\" fill=\"currentColor\" text-anchor=\"middle\" y=\"422.0\">\n    <tspan class=\"displacy-word\" fill=\"currentColor\" x=\"200\">does</tspan>\n    <tspan class=\"displacy-tag\" dy=\"2em\" fill=\"currentColor\" x=\"200\">VBZ</tspan>\n</text>\n\n<text class=\"displacy-token\" fill=\"currentColor\" text-anchor=\"middle\" y=\"422.0\">\n    <tspan class=\"displacy-word\" fill=\"currentColor\" x=\"350\">genesis</tspan>\n    <tspan class=\"displacy-tag\" dy=\"2em\" fill=\"currentColor\" x=\"350\">NN</tspan>\n</text>\n\n<text class=\"displacy-token\" fill=\"currentColor\" text-anchor=\"middle\" y=\"422.0\">\n    <tspan class=\"displacy-word\" fill=\"currentColor\" x=\"500\">1</tspan>\n    <tspan class=\"displacy-tag\" dy=\"2em\" fill=\"currentColor\" x=\"500\">CD</tspan>\n</text>\n\n<text class=\"displacy-token\" fill=\"currentColor\" text-anchor=\"middle\" y=\"422.0\">\n    <tspan class=\"displacy-word\" fill=\"currentColor\" x=\"650\">14</tspan>\n    <tspan class=\"displacy-tag\" dy=\"2em\" fill=\"currentColor\" x=\"650\">CD</tspan>\n</text>\n\n<text class=\"displacy-token\" fill=\"currentColor\" text-anchor=\"middle\" y=\"422.0\">\n    <tspan class=\"displacy-word\" fill=\"currentColor\" x=\"800\">say</tspan>\n    <tspan class=\"displacy-tag\" dy=\"2em\" fill=\"currentColor\" x=\"800\">VB</tspan>\n</text>\n\n<text class=\"displacy-token\" fill=\"currentColor\" text-anchor=\"middle\" y=\"422.0\">\n    <tspan class=\"displacy-word\" fill=\"currentColor\" x=\"950\">about</tspan>\n    <tspan class=\"displacy-tag\" dy=\"2em\" fill=\"currentColor\" x=\"950\">IN</tspan>\n</text>\n\n<text class=\"displacy-token\" fill=\"currentColor\" text-anchor=\"middle\" y=\"422.0\">\n    <tspan class=\"displacy-word\" fill=\"currentColor\" x=\"1100\">genesis</tspan>\n    <tspan class=\"displacy-tag\" dy=\"2em\" fill=\"currentColor\" x=\"1100\">NN</tspan>\n</text>\n\n<text class=\"displacy-token\" fill=\"currentColor\" text-anchor=\"middle\" y=\"422.0\">\n    <tspan class=\"displacy-word\" fill=\"currentColor\" x=\"1250\">in</tspan>\n    <tspan class=\"displacy-tag\" dy=\"2em\" fill=\"currentColor\" x=\"1250\">IN</tspan>\n</text>\n\n<text class=\"displacy-token\" fill=\"currentColor\" text-anchor=\"middle\" y=\"422.0\">\n    <tspan class=\"displacy-word\" fill=\"currentColor\" x=\"1400\">genesis?</tspan>\n    <tspan class=\"displacy-tag\" dy=\"2em\" fill=\"currentColor\" x=\"1400\">NN</tspan>\n</text>\n\n<g class=\"displacy-arrow\">\n    <path class=\"displacy-arc\" id=\"arrow-baa31aa803a54d4295a80e9f31844456-0-0\" stroke-width=\"2px\" d=\"M62,377.0 62,252.0 800.0,252.0 800.0,377.0\" fill=\"none\" stroke=\"currentColor\"/>\n    <text dy=\"1.25em\" style=\"font-size: 0.8em; letter-spacing: 1px\">\n        <textPath xlink:href=\"#arrow-baa31aa803a54d4295a80e9f31844456-0-0\" class=\"displacy-label\" startOffset=\"50%\" side=\"left\" fill=\"currentColor\" text-anchor=\"middle\">dobj</textPath>\n    </text>\n    <path class=\"displacy-arrowhead\" d=\"M62,379.0 L58,371.0 66,371.0\" fill=\"currentColor\"/>\n</g>\n\n<g class=\"displacy-arrow\">\n    <path class=\"displacy-arc\" id=\"arrow-baa31aa803a54d4295a80e9f31844456-0-1\" stroke-width=\"2px\" d=\"M212,377.0 212,277.0 797.0,277.0 797.0,377.0\" fill=\"none\" stroke=\"currentColor\"/>\n    <text dy=\"1.25em\" style=\"font-size: 0.8em; letter-spacing: 1px\">\n        <textPath xlink:href=\"#arrow-baa31aa803a54d4295a80e9f31844456-0-1\" class=\"displacy-label\" startOffset=\"50%\" side=\"left\" fill=\"currentColor\" text-anchor=\"middle\">aux</textPath>\n    </text>\n    <path class=\"displacy-arrowhead\" d=\"M212,379.0 L208,371.0 216,371.0\" fill=\"currentColor\"/>\n</g>\n\n<g class=\"displacy-arrow\">\n    <path class=\"displacy-arc\" id=\"arrow-baa31aa803a54d4295a80e9f31844456-0-2\" stroke-width=\"2px\" d=\"M362,377.0 362,302.0 794.0,302.0 794.0,377.0\" fill=\"none\" stroke=\"currentColor\"/>\n    <text dy=\"1.25em\" style=\"font-size: 0.8em; letter-spacing: 1px\">\n        <textPath xlink:href=\"#arrow-baa31aa803a54d4295a80e9f31844456-0-2\" class=\"displacy-label\" startOffset=\"50%\" side=\"left\" fill=\"currentColor\" text-anchor=\"middle\">nsubj</textPath>\n    </text>\n    <path class=\"displacy-arrowhead\" d=\"M362,379.0 L358,371.0 366,371.0\" fill=\"currentColor\"/>\n</g>\n\n<g class=\"displacy-arrow\">\n    <path class=\"displacy-arc\" id=\"arrow-baa31aa803a54d4295a80e9f31844456-0-3\" stroke-width=\"2px\" d=\"M512,377.0 512,352.0 638.0,352.0 638.0,377.0\" fill=\"none\" stroke=\"currentColor\"/>\n    <text dy=\"1.25em\" style=\"font-size: 0.8em; letter-spacing: 1px\">\n        <textPath xlink:href=\"#arrow-baa31aa803a54d4295a80e9f31844456-0-3\" class=\"displacy-label\" startOffset=\"50%\" side=\"left\" fill=\"currentColor\" text-anchor=\"middle\">compound</textPath>\n    </text>\n    <path class=\"displacy-arrowhead\" d=\"M512,379.0 L508,371.0 516,371.0\" fill=\"currentColor\"/>\n</g>\n\n<g class=\"displacy-arrow\">\n    <path class=\"displacy-arc\" id=\"arrow-baa31aa803a54d4295a80e9f31844456-0-4\" stroke-width=\"2px\" d=\"M362,377.0 362,327.0 641.0,327.0 641.0,377.0\" fill=\"none\" stroke=\"currentColor\"/>\n    <text dy=\"1.25em\" style=\"font-size: 0.8em; letter-spacing: 1px\">\n        <textPath xlink:href=\"#arrow-baa31aa803a54d4295a80e9f31844456-0-4\" class=\"displacy-label\" startOffset=\"50%\" side=\"left\" fill=\"currentColor\" text-anchor=\"middle\">nummod</textPath>\n    </text>\n    <path class=\"displacy-arrowhead\" d=\"M641.0,379.0 L645.0,371.0 637.0,371.0\" fill=\"currentColor\"/>\n</g>\n\n<g class=\"displacy-arrow\">\n    <path class=\"displacy-arc\" id=\"arrow-baa31aa803a54d4295a80e9f31844456-0-5\" stroke-width=\"2px\" d=\"M812,377.0 812,352.0 938.0,352.0 938.0,377.0\" fill=\"none\" stroke=\"currentColor\"/>\n    <text dy=\"1.25em\" style=\"font-size: 0.8em; letter-spacing: 1px\">\n        <textPath xlink:href=\"#arrow-baa31aa803a54d4295a80e9f31844456-0-5\" class=\"displacy-label\" startOffset=\"50%\" side=\"left\" fill=\"currentColor\" text-anchor=\"middle\">prep</textPath>\n    </text>\n    <path class=\"displacy-arrowhead\" d=\"M938.0,379.0 L942.0,371.0 934.0,371.0\" fill=\"currentColor\"/>\n</g>\n\n<g class=\"displacy-arrow\">\n    <path class=\"displacy-arc\" id=\"arrow-baa31aa803a54d4295a80e9f31844456-0-6\" stroke-width=\"2px\" d=\"M962,377.0 962,352.0 1088.0,352.0 1088.0,377.0\" fill=\"none\" stroke=\"currentColor\"/>\n    <text dy=\"1.25em\" style=\"font-size: 0.8em; letter-spacing: 1px\">\n        <textPath xlink:href=\"#arrow-baa31aa803a54d4295a80e9f31844456-0-6\" class=\"displacy-label\" startOffset=\"50%\" side=\"left\" fill=\"currentColor\" text-anchor=\"middle\">pobj</textPath>\n    </text>\n    <path class=\"displacy-arrowhead\" d=\"M1088.0,379.0 L1092.0,371.0 1084.0,371.0\" fill=\"currentColor\"/>\n</g>\n\n<g class=\"displacy-arrow\">\n    <path class=\"displacy-arc\" id=\"arrow-baa31aa803a54d4295a80e9f31844456-0-7\" stroke-width=\"2px\" d=\"M1112,377.0 1112,352.0 1238.0,352.0 1238.0,377.0\" fill=\"none\" stroke=\"currentColor\"/>\n    <text dy=\"1.25em\" style=\"font-size: 0.8em; letter-spacing: 1px\">\n        <textPath xlink:href=\"#arrow-baa31aa803a54d4295a80e9f31844456-0-7\" class=\"displacy-label\" startOffset=\"50%\" side=\"left\" fill=\"currentColor\" text-anchor=\"middle\">prep</textPath>\n    </text>\n    <path class=\"displacy-arrowhead\" d=\"M1238.0,379.0 L1242.0,371.0 1234.0,371.0\" fill=\"currentColor\"/>\n</g>\n\n<g class=\"displacy-arrow\">\n    <path class=\"displacy-arc\" id=\"arrow-baa31aa803a54d4295a80e9f31844456-0-8\" stroke-width=\"2px\" d=\"M1262,377.0 1262,352.0 1388.0,352.0 1388.0,377.0\" fill=\"none\" stroke=\"currentColor\"/>\n    <text dy=\"1.25em\" style=\"font-size: 0.8em; letter-spacing: 1px\">\n        <textPath xlink:href=\"#arrow-baa31aa803a54d4295a80e9f31844456-0-8\" class=\"displacy-label\" startOffset=\"50%\" side=\"left\" fill=\"currentColor\" text-anchor=\"middle\">pobj</textPath>\n    </text>\n    <path class=\"displacy-arrowhead\" d=\"M1388.0,379.0 L1392.0,371.0 1384.0,371.0\" fill=\"currentColor\"/>\n</g>\n</svg></span>"
     },
     "metadata": {},
     "output_type": "display_data"
    }
   ],
   "source": [
    "\n",
    "\n",
    "texts = [\"What does genesis 1 14 say about genesis in genesis?\"]\n",
    "# \"What was written by ellen white  about main theme in genesis?\",\n",
    "# \"What does the acts of the apostles, 15 say about genesis in genesis?\",\n",
    "# \"What does ellen white say in the acts of apostles?\",\n",
    "# \"What AA says about genesis?\",\n",
    "# \"What is written in hebrews about faith?\",\n",
    "# \"What did Ellen White write in A Call to Medical Evangelism and Health Education about faith?\",\n",
    "# ]\n",
    "docs = nlp.pipe(texts)\n",
    "\n",
    "displacy.render(docs,  style=\"dep\", options=dict(fine_grained=True, compact=True, collapse_punct=True))"
   ],
   "metadata": {
    "collapsed": false,
    "ExecuteTime": {
     "end_time": "2023-11-30T15:17:37.724851446Z",
     "start_time": "2023-11-30T15:17:37.678605962Z"
    }
   },
   "id": "7a869a07ed33924c"
  },
  {
   "cell_type": "code",
   "execution_count": 21,
   "outputs": [
    {
     "data": {
      "text/plain": "'auxiliary'"
     },
     "execution_count": 21,
     "metadata": {},
     "output_type": "execute_result"
    }
   ],
   "source": [
    "spacy.explain(\"aux\")"
   ],
   "metadata": {
    "collapsed": false,
    "ExecuteTime": {
     "end_time": "2023-11-30T15:05:39.976864016Z",
     "start_time": "2023-11-30T15:05:39.933981573Z"
    }
   },
   "id": "50e9357ead73d093"
  },
  {
   "cell_type": "markdown",
   "source": [
    "* `What does the acts of the apostles 15 say about genesis in genesis?` - Find nsubj. Verb should be one of say, write, explain, describe, talk, speak, tell, mention, discuss, comment, note, state, declare, report, indicate, point, refer,\n",
    "* `What was written by ellen white  about main theme in genesis??` - prep ('in') -> pobj"
   ],
   "metadata": {
    "collapsed": false
   },
   "id": "235a4c381ab641d2"
  },
  {
   "cell_type": "code",
   "execution_count": 28,
   "outputs": [
    {
     "data": {
      "text/plain": "'verb, base form'"
     },
     "execution_count": 28,
     "metadata": {},
     "output_type": "execute_result"
    }
   ],
   "source": [
    "spacy.explain(\"VB\")"
   ],
   "metadata": {
    "collapsed": false,
    "ExecuteTime": {
     "end_time": "2023-11-30T15:09:21.641503844Z",
     "start_time": "2023-11-30T15:09:21.629444706Z"
    }
   },
   "id": "3c100f1701b7f28b"
  },
  {
   "cell_type": "code",
   "execution_count": null,
   "outputs": [],
   "source": [],
   "metadata": {
    "collapsed": false
   },
   "id": "5d660fd368e27969"
  }
 ],
 "metadata": {
  "kernelspec": {
   "display_name": "Python 3",
   "language": "python",
   "name": "python3"
  },
  "language_info": {
   "codemirror_mode": {
    "name": "ipython",
    "version": 2
   },
   "file_extension": ".py",
   "mimetype": "text/x-python",
   "name": "python",
   "nbconvert_exporter": "python",
   "pygments_lexer": "ipython2",
   "version": "2.7.6"
  }
 },
 "nbformat": 4,
 "nbformat_minor": 5
}
